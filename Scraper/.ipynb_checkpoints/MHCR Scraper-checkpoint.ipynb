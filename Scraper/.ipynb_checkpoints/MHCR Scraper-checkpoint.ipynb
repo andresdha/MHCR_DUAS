{
 "cells": [
  {
   "cell_type": "code",
   "execution_count": 1,
   "metadata": {},
   "outputs": [],
   "source": [
    "from selenium import webdriver\n",
    "from selenium.webdriver.common.by import By\n",
    "from selenium.webdriver.common.keys import Keys\n",
    "from selenium.webdriver.common.action_chains import ActionChains\n",
    "from selenium.webdriver.support.ui import WebDriverWait\n",
    "from selenium.webdriver.support.expected_conditions import presence_of_element_located\n",
    "from webdriver_manager.chrome import ChromeDriverManager \n",
    "import pandas as pd\n",
    "from time import sleep"
   ]
  },
  {
   "cell_type": "code",
   "execution_count": 2,
   "metadata": {},
   "outputs": [],
   "source": [
    "range_low = '35078000'\n",
    "range_high = '35080000'\n",
    "start_date = '01/08/2020'\n",
    "end_date = '31/08/2020'"
   ]
  },
  {
   "cell_type": "code",
   "execution_count": 3,
   "metadata": {},
   "outputs": [
    {
     "name": "stderr",
     "output_type": "stream",
     "text": [
      "[WDM] - Current google-chrome version is 85.0.4183\n",
      "[WDM] - Get LATEST driver version for 85.0.4183\n"
     ]
    },
    {
     "name": "stdout",
     "output_type": "stream",
     "text": [
      " \n"
     ]
    },
    {
     "name": "stderr",
     "output_type": "stream",
     "text": [
      "[WDM] - Driver [/home/andres/.wdm/drivers/chromedriver/linux64/85.0.4183.87/chromedriver] found in cache\n"
     ]
    }
   ],
   "source": [
    "driver = webdriver.Chrome(ChromeDriverManager().install())\n",
    "\n",
    "driver.get('https://www.hacienda.go.cr/tica/web/hcitrncm1.aspx')"
   ]
  },
  {
   "cell_type": "code",
   "execution_count": 6,
   "metadata": {},
   "outputs": [],
   "source": [
    "img_src = driver.find_element_by_xpath('//div[@id=\"captchaImage\"]/img')\n"
   ]
  },
  {
   "cell_type": "code",
   "execution_count": 7,
   "metadata": {},
   "outputs": [
    {
     "data": {
      "text/plain": [
       " captcha_answer    copper\n",
       "Name: 59, dtype: object"
      ]
     },
     "execution_count": 7,
     "metadata": {},
     "output_type": "execute_result"
    }
   ],
   "source": [
    "img_src = img_src.get_attribute('src')\n",
    "captchas = pd.read_csv('../Captchas/captchas.csv', index_col=0)\n",
    "captcha_number = int(img_src.split('/')[-1].split('.')[0])\n",
    "captcha_value = captchas.iloc[captcha_number - 1]\n",
    "captcha_value"
   ]
  },
  {
   "cell_type": "code",
   "execution_count": 8,
   "metadata": {},
   "outputs": [],
   "source": [
    "driver.find_element_by_xpath('//select[@id=\"vVADUANA\"]/option[@value=\"X\"]').click()"
   ]
  },
  {
   "cell_type": "code",
   "execution_count": 9,
   "metadata": {},
   "outputs": [],
   "source": [
    "date_i = driver.find_element_by_xpath('//div[@id=\"vVFCHIN_dp_container\"]/input')"
   ]
  },
  {
   "cell_type": "code",
   "execution_count": 10,
   "metadata": {},
   "outputs": [],
   "source": [
    "date_i.send_keys(start_date)"
   ]
  },
  {
   "cell_type": "code",
   "execution_count": 11,
   "metadata": {},
   "outputs": [],
   "source": [
    "date_f = driver.find_element_by_xpath('//div[@id=\"vVFCHFN_dp_container\"]/input')"
   ]
  },
  {
   "cell_type": "code",
   "execution_count": 12,
   "metadata": {},
   "outputs": [],
   "source": [
    "date_f.send_keys(end_date)"
   ]
  },
  {
   "cell_type": "code",
   "execution_count": 13,
   "metadata": {},
   "outputs": [],
   "source": [
    "range_start = driver.find_element_by_xpath('//td/input[@id=\"vVNCMINI\"]')\n",
    "range_start.clear()\n",
    "range_start.send_keys(range_low)"
   ]
  },
  {
   "cell_type": "code",
   "execution_count": 14,
   "metadata": {},
   "outputs": [],
   "source": [
    "range_end = driver.find_element_by_xpath('//td/input[@id=\"vVNCMFIN\"]')\n",
    "range_end.clear()\n",
    "range_end.send_keys(range_high)"
   ]
  },
  {
   "cell_type": "code",
   "execution_count": 15,
   "metadata": {},
   "outputs": [],
   "source": [
    "captcha_field = driver.find_element_by_xpath('//input[@id=\"_cfield\"]')"
   ]
  },
  {
   "cell_type": "code",
   "execution_count": 16,
   "metadata": {},
   "outputs": [],
   "source": [
    "captcha_field.clear()"
   ]
  },
  {
   "cell_type": "code",
   "execution_count": 17,
   "metadata": {},
   "outputs": [],
   "source": [
    "captcha_field.send_keys(captcha_value)"
   ]
  },
  {
   "cell_type": "code",
   "execution_count": 18,
   "metadata": {},
   "outputs": [],
   "source": [
    "driver.find_element_by_xpath('//input[@name=\"BUTTON1\"]').click()"
   ]
  },
  {
   "cell_type": "code",
   "execution_count": 19,
   "metadata": {},
   "outputs": [],
   "source": [
    "# Lists to store scraped data points\n",
    "main_pg_dfs = []\n",
    "duas_dfs = []\n",
    "declarantes = []\n",
    "tipos_cambio = []\n",
    "bultos = []\n",
    "razon_social = []\n",
    "facturas_dfs = []"
   ]
  },
  {
   "cell_type": "code",
   "execution_count": 20,
   "metadata": {},
   "outputs": [
    {
     "name": "stdout",
     "output_type": "stream",
     "text": [
      "New Page\n"
     ]
    },
    {
     "ename": "NoSuchElementException",
     "evalue": "Message: no such element: Unable to locate element: {\"method\":\"xpath\",\"selector\":\"//input[@name=\"FACTURAS\"]\"}\n  (Session info: chrome=85.0.4183.83)\n",
     "output_type": "error",
     "traceback": [
      "\u001b[0;31m---------------------------------------------------------------------------\u001b[0m",
      "\u001b[0;31mNoSuchElementException\u001b[0m                    Traceback (most recent call last)",
      "\u001b[0;32m<ipython-input-20-ea0c93a86a30>\u001b[0m in \u001b[0;36m<module>\u001b[0;34m\u001b[0m\n\u001b[1;32m    164\u001b[0m \u001b[0;34m\u001b[0m\u001b[0m\n\u001b[1;32m    165\u001b[0m                 \u001b[0;31m### Facturas iFrame\u001b[0m\u001b[0;34m\u001b[0m\u001b[0;34m\u001b[0m\u001b[0;34m\u001b[0m\u001b[0m\n\u001b[0;32m--> 166\u001b[0;31m                 \u001b[0mdriver\u001b[0m\u001b[0;34m.\u001b[0m\u001b[0mfind_element_by_xpath\u001b[0m\u001b[0;34m(\u001b[0m\u001b[0;34m'//input[@name=\"FACTURAS\"]'\u001b[0m\u001b[0;34m)\u001b[0m\u001b[0;34m.\u001b[0m\u001b[0mclick\u001b[0m\u001b[0;34m(\u001b[0m\u001b[0;34m)\u001b[0m\u001b[0;34m\u001b[0m\u001b[0;34m\u001b[0m\u001b[0m\n\u001b[0m\u001b[1;32m    167\u001b[0m                 \u001b[0msleep\u001b[0m\u001b[0;34m(\u001b[0m\u001b[0;36m2\u001b[0m\u001b[0;34m)\u001b[0m\u001b[0;34m\u001b[0m\u001b[0;34m\u001b[0m\u001b[0m\n\u001b[1;32m    168\u001b[0m                 \u001b[0mfact_src\u001b[0m \u001b[0;34m=\u001b[0m \u001b[0mdriver\u001b[0m\u001b[0;34m.\u001b[0m\u001b[0mpage_source\u001b[0m\u001b[0;34m\u001b[0m\u001b[0;34m\u001b[0m\u001b[0m\n",
      "\u001b[0;32m~/anaconda3/lib/python3.7/site-packages/selenium/webdriver/remote/webdriver.py\u001b[0m in \u001b[0;36mfind_element_by_xpath\u001b[0;34m(self, xpath)\u001b[0m\n\u001b[1;32m    392\u001b[0m             \u001b[0melement\u001b[0m \u001b[0;34m=\u001b[0m \u001b[0mdriver\u001b[0m\u001b[0;34m.\u001b[0m\u001b[0mfind_element_by_xpath\u001b[0m\u001b[0;34m(\u001b[0m\u001b[0;34m'//div/td[1]'\u001b[0m\u001b[0;34m)\u001b[0m\u001b[0;34m\u001b[0m\u001b[0;34m\u001b[0m\u001b[0m\n\u001b[1;32m    393\u001b[0m         \"\"\"\n\u001b[0;32m--> 394\u001b[0;31m         \u001b[0;32mreturn\u001b[0m \u001b[0mself\u001b[0m\u001b[0;34m.\u001b[0m\u001b[0mfind_element\u001b[0m\u001b[0;34m(\u001b[0m\u001b[0mby\u001b[0m\u001b[0;34m=\u001b[0m\u001b[0mBy\u001b[0m\u001b[0;34m.\u001b[0m\u001b[0mXPATH\u001b[0m\u001b[0;34m,\u001b[0m \u001b[0mvalue\u001b[0m\u001b[0;34m=\u001b[0m\u001b[0mxpath\u001b[0m\u001b[0;34m)\u001b[0m\u001b[0;34m\u001b[0m\u001b[0;34m\u001b[0m\u001b[0m\n\u001b[0m\u001b[1;32m    395\u001b[0m \u001b[0;34m\u001b[0m\u001b[0m\n\u001b[1;32m    396\u001b[0m     \u001b[0;32mdef\u001b[0m \u001b[0mfind_elements_by_xpath\u001b[0m\u001b[0;34m(\u001b[0m\u001b[0mself\u001b[0m\u001b[0;34m,\u001b[0m \u001b[0mxpath\u001b[0m\u001b[0;34m)\u001b[0m\u001b[0;34m:\u001b[0m\u001b[0;34m\u001b[0m\u001b[0;34m\u001b[0m\u001b[0m\n",
      "\u001b[0;32m~/anaconda3/lib/python3.7/site-packages/selenium/webdriver/remote/webdriver.py\u001b[0m in \u001b[0;36mfind_element\u001b[0;34m(self, by, value)\u001b[0m\n\u001b[1;32m    976\u001b[0m         return self.execute(Command.FIND_ELEMENT, {\n\u001b[1;32m    977\u001b[0m             \u001b[0;34m'using'\u001b[0m\u001b[0;34m:\u001b[0m \u001b[0mby\u001b[0m\u001b[0;34m,\u001b[0m\u001b[0;34m\u001b[0m\u001b[0;34m\u001b[0m\u001b[0m\n\u001b[0;32m--> 978\u001b[0;31m             'value': value})['value']\n\u001b[0m\u001b[1;32m    979\u001b[0m \u001b[0;34m\u001b[0m\u001b[0m\n\u001b[1;32m    980\u001b[0m     \u001b[0;32mdef\u001b[0m \u001b[0mfind_elements\u001b[0m\u001b[0;34m(\u001b[0m\u001b[0mself\u001b[0m\u001b[0;34m,\u001b[0m \u001b[0mby\u001b[0m\u001b[0;34m=\u001b[0m\u001b[0mBy\u001b[0m\u001b[0;34m.\u001b[0m\u001b[0mID\u001b[0m\u001b[0;34m,\u001b[0m \u001b[0mvalue\u001b[0m\u001b[0;34m=\u001b[0m\u001b[0;32mNone\u001b[0m\u001b[0;34m)\u001b[0m\u001b[0;34m:\u001b[0m\u001b[0;34m\u001b[0m\u001b[0;34m\u001b[0m\u001b[0m\n",
      "\u001b[0;32m~/anaconda3/lib/python3.7/site-packages/selenium/webdriver/remote/webdriver.py\u001b[0m in \u001b[0;36mexecute\u001b[0;34m(self, driver_command, params)\u001b[0m\n\u001b[1;32m    319\u001b[0m         \u001b[0mresponse\u001b[0m \u001b[0;34m=\u001b[0m \u001b[0mself\u001b[0m\u001b[0;34m.\u001b[0m\u001b[0mcommand_executor\u001b[0m\u001b[0;34m.\u001b[0m\u001b[0mexecute\u001b[0m\u001b[0;34m(\u001b[0m\u001b[0mdriver_command\u001b[0m\u001b[0;34m,\u001b[0m \u001b[0mparams\u001b[0m\u001b[0;34m)\u001b[0m\u001b[0;34m\u001b[0m\u001b[0;34m\u001b[0m\u001b[0m\n\u001b[1;32m    320\u001b[0m         \u001b[0;32mif\u001b[0m \u001b[0mresponse\u001b[0m\u001b[0;34m:\u001b[0m\u001b[0;34m\u001b[0m\u001b[0;34m\u001b[0m\u001b[0m\n\u001b[0;32m--> 321\u001b[0;31m             \u001b[0mself\u001b[0m\u001b[0;34m.\u001b[0m\u001b[0merror_handler\u001b[0m\u001b[0;34m.\u001b[0m\u001b[0mcheck_response\u001b[0m\u001b[0;34m(\u001b[0m\u001b[0mresponse\u001b[0m\u001b[0;34m)\u001b[0m\u001b[0;34m\u001b[0m\u001b[0;34m\u001b[0m\u001b[0m\n\u001b[0m\u001b[1;32m    322\u001b[0m             response['value'] = self._unwrap_value(\n\u001b[1;32m    323\u001b[0m                 response.get('value', None))\n",
      "\u001b[0;32m~/anaconda3/lib/python3.7/site-packages/selenium/webdriver/remote/errorhandler.py\u001b[0m in \u001b[0;36mcheck_response\u001b[0;34m(self, response)\u001b[0m\n\u001b[1;32m    240\u001b[0m                 \u001b[0malert_text\u001b[0m \u001b[0;34m=\u001b[0m \u001b[0mvalue\u001b[0m\u001b[0;34m[\u001b[0m\u001b[0;34m'alert'\u001b[0m\u001b[0;34m]\u001b[0m\u001b[0;34m.\u001b[0m\u001b[0mget\u001b[0m\u001b[0;34m(\u001b[0m\u001b[0;34m'text'\u001b[0m\u001b[0;34m)\u001b[0m\u001b[0;34m\u001b[0m\u001b[0;34m\u001b[0m\u001b[0m\n\u001b[1;32m    241\u001b[0m             \u001b[0;32mraise\u001b[0m \u001b[0mexception_class\u001b[0m\u001b[0;34m(\u001b[0m\u001b[0mmessage\u001b[0m\u001b[0;34m,\u001b[0m \u001b[0mscreen\u001b[0m\u001b[0;34m,\u001b[0m \u001b[0mstacktrace\u001b[0m\u001b[0;34m,\u001b[0m \u001b[0malert_text\u001b[0m\u001b[0;34m)\u001b[0m\u001b[0;34m\u001b[0m\u001b[0;34m\u001b[0m\u001b[0m\n\u001b[0;32m--> 242\u001b[0;31m         \u001b[0;32mraise\u001b[0m \u001b[0mexception_class\u001b[0m\u001b[0;34m(\u001b[0m\u001b[0mmessage\u001b[0m\u001b[0;34m,\u001b[0m \u001b[0mscreen\u001b[0m\u001b[0;34m,\u001b[0m \u001b[0mstacktrace\u001b[0m\u001b[0;34m)\u001b[0m\u001b[0;34m\u001b[0m\u001b[0;34m\u001b[0m\u001b[0m\n\u001b[0m\u001b[1;32m    243\u001b[0m \u001b[0;34m\u001b[0m\u001b[0m\n\u001b[1;32m    244\u001b[0m     \u001b[0;32mdef\u001b[0m \u001b[0m_value_or_default\u001b[0m\u001b[0;34m(\u001b[0m\u001b[0mself\u001b[0m\u001b[0;34m,\u001b[0m \u001b[0mobj\u001b[0m\u001b[0;34m,\u001b[0m \u001b[0mkey\u001b[0m\u001b[0;34m,\u001b[0m \u001b[0mdefault\u001b[0m\u001b[0;34m)\u001b[0m\u001b[0;34m:\u001b[0m\u001b[0;34m\u001b[0m\u001b[0;34m\u001b[0m\u001b[0m\n",
      "\u001b[0;31mNoSuchElementException\u001b[0m: Message: no such element: Unable to locate element: {\"method\":\"xpath\",\"selector\":\"//input[@name=\"FACTURAS\"]\"}\n  (Session info: chrome=85.0.4183.83)\n"
     ]
    }
   ],
   "source": [
    "scrape = True\n",
    "\n",
    "while scrape:\n",
    "### Navigates Through Result Pages\n",
    "    print('New Page')\n",
    "    sleep(1)\n",
    "    source = driver.page_source\n",
    "\n",
    "    tables = pd.read_html(source)\n",
    "\n",
    "    len_test = tables[9]\n",
    "    \n",
    "    sleep(1)\n",
    "\n",
    "    scrape_pg = True\n",
    "    \n",
    "    while scrape_pg:\n",
    "    ### Opens Every Result Link Withing the Page\n",
    "        sleep(1)\n",
    "        source = driver.page_source\n",
    "\n",
    "        tables = pd.read_html(source)\n",
    "\n",
    "        main_pg_data = tables[9]\n",
    "        main_pg_dfs.append(main_pg_data)\n",
    "    \n",
    "        duas_df = main_pg_data.groupby('Numero', sort=False).size()\n",
    "        duas_dfs.append(duas_df)\n",
    "        \n",
    "        for i in range(1, len(duas_df) +1):\n",
    "            sleep(2)\n",
    "            line = duas_df.iloc[:i].sum()\n",
    "            if (line != 10 and len(main_pg_data)//10 !=0) or (len(main_pg_data)//10 == 0):\n",
    "                xpath = f'//table[@id=\"SubfileContainerTbl\"]/tbody/tr/td[@colindex=\"2\"]/span[@id=\"span_vVNUMECORRE_000{str(line)}\"]/a'\n",
    "                sleep(2)\n",
    "                driver.find_element_by_xpath(xpath).click()\n",
    "                sleep(2)\n",
    "                iframe = driver.find_element_by_xpath('//iframe')\n",
    "                driver.switch_to.frame(iframe)\n",
    "                sleep(1)\n",
    "                \n",
    "                ### Scraping Main iFrame\n",
    "                declarante = driver.find_element_by_xpath('//span[@id=\"span_vVNOMDECL\"]').text\n",
    "                declarantes.append(declarante)\n",
    "                tipo_cambio_v = float(driver.find_element_by_xpath('//span[@id=\"span_TIPCAMVEN\"]').text)\n",
    "                tipos_cambio.append(tipo_cambio_v)\n",
    "                n_lineas = int(driver.find_element_by_xpath('//span[@id=\"span_vVLINEAS\"]').text)\n",
    "                \n",
    "                ### Lineas Dua iFrame\n",
    "                lineas_dfs = []\n",
    "                pgs = n_lineas // 20 + 1\n",
    "                driver.find_element_by_xpath('//input[@name=\"LINEAS\"]').click()\n",
    "                sleep(2)\n",
    "                for page in range(pgs):\n",
    "                ### Iterating over pages within this section of iframe\n",
    "                    sleep(1)\n",
    "    \n",
    "                    lineas_src = driver.page_source\n",
    "                    lineas_dfs.append(pd.read_html(lineas_src))\n",
    "    \n",
    "                    driver.find_element_by_xpath('//input[@name=\"SIGUIENTE\"]').click()\n",
    "                lineas_dfs = [lineas_dfs[i][1] for i in range(pgs)]\n",
    "                lineas_df = pd.concat(lineas_dfs)\n",
    "                lineas_df[['Linea', 'Partida', 'Bultos']].astype('int').dtypes\n",
    "                lineas_df['Partida'] = lineas_df['Partida'].apply(lambda x: int(x/10000))\n",
    "                lineas_df = lineas_df[(lineas_df['Partida'] > int(range_low)) & (lineas_df['Partida'] < int(range_high))]\n",
    "                n_bultos = lineas_df['Bultos'].sum()\n",
    "                bultos.append(n_bultos)\n",
    "                sleep(2)\n",
    "                ActionChains(driver).send_keys(Keys.ESCAPE).perform()\n",
    "                sleep(2)\n",
    "                \n",
    "                ### Manifesto/Stock iFrame\n",
    "                driver.find_element_by_xpath('//input[@name=\"AER\"]').click()\n",
    "                sleep(1)\n",
    "                try:\n",
    "                    driver.find_element_by_xpath('//span[@id=\"span_CGMOVSKID_0001\"]').click()\n",
    "                    sa = driver.find_element_by_xpath('//span[@id=\"span_vVCONSNOM_0001\"]').text\n",
    "                    ActionChains(driver).send_keys(Keys.ESCAPE).perform()\n",
    "                    sleep(1)\n",
    "                except:\n",
    "                    sa = 0 \n",
    "                razon_social.append(sa)\n",
    "\n",
    "                ActionChains(driver).send_keys(Keys.ESCAPE).perform()\n",
    "                sleep(2)\n",
    "                \n",
    "                ### Facturas iFrame\n",
    "                driver.find_element_by_xpath('//input[@name=\"FACTURAS\"]').click()\n",
    "                sleep(2)\n",
    "                fact_src = driver.page_source\n",
    "                fact_dfs = pd.read_html(fact_src)\n",
    "                lines_of_interest = lineas_df['Linea'].values\n",
    "                fact_dfs = fact_dfs[4]\n",
    "                fact_dfs['Lin.Dua'].astype('int').dtypes\n",
    "                fact_dfs[['Cant. prod. Und comerc', 'Precio unid. mercancía']].astype('float').dtypes\n",
    "                fact_dfs = fact_dfs.set_index('Lin.Dua').loc[lines_of_interest]\n",
    "                facturas_dfs.append(fact_dfs)\n",
    "                \n",
    "                sleep(1)\n",
    "                ActionChains(driver).send_keys(Keys.ESCAPE).perform()\n",
    "                sleep(1)\n",
    "                ActionChains(driver).send_keys(Keys.ESCAPE).perform()\n",
    "                sleep(1)\n",
    "                if len(main_pg_data)//10 == 0:\n",
    "                    scrape_pg = False\n",
    "            \n",
    "            \n",
    "            elif line == 10:\n",
    "                xpath = f'//table[@id=\"SubfileContainerTbl\"]/tbody/tr/td[@colindex=\"2\"]/span[@id=\"span_vVNUMECORRE_00{str(line)}\"]/a'\n",
    "                sleep(2)\n",
    "                driver.find_element_by_xpath(xpath).click()\n",
    "                sleep(2)\n",
    "                iframe = driver.find_element_by_xpath('//iframe')\n",
    "                driver.switch_to.frame(iframe)\n",
    "                sleep(1)\n",
    "                \n",
    "                ### Scraping Main iFrame\n",
    "                declarante = driver.find_element_by_xpath('//span[@id=\"span_vVNOMDECL\"]').text\n",
    "                declarantes.append(declarante)\n",
    "                tipo_cambio_v = float(driver.find_element_by_xpath('//span[@id=\"span_TIPCAMVEN\"]').text)\n",
    "                tipos_cambio.append(tipo_cambio_v)\n",
    "                n_lineas = int(driver.find_element_by_xpath('//span[@id=\"span_vVLINEAS\"]').text)\n",
    "                \n",
    "                ### Lineas Dua iFrame\n",
    "                lineas_dfs = []\n",
    "                pgs = n_lineas // 20 + 1\n",
    "                driver.find_element_by_xpath('//input[@name=\"LINEAS\"]').click()\n",
    "                sleep(2)\n",
    "                for page in range(pgs):\n",
    "                ### Iterating over pages within this section of iframe\n",
    "                    sleep(1)\n",
    "    \n",
    "                    lineas_src = driver.page_source\n",
    "                    lineas_dfs.append(pd.read_html(lineas_src))\n",
    "    \n",
    "                    driver.find_element_by_xpath('//input[@name=\"SIGUIENTE\"]').click()\n",
    "                lineas_dfs = [lineas_dfs[i][1] for i in range(pgs)]\n",
    "                lineas_df = pd.concat(lineas_dfs)\n",
    "                lineas_df[['Linea', 'Partida', 'Bultos']].astype('int').dtypes\n",
    "                lineas_df['Partida'] = lineas_df['Partida'].apply(lambda x: int(x/10000))\n",
    "                lineas_df = lineas_df[(lineas_df['Partida'] > int(range_low)) & (lineas_df['Partida'] < int(range_high))]\n",
    "                n_bultos = lineas_df['Bultos'].sum()\n",
    "                bultos.append(n_bultos)\n",
    "                sleep(2)\n",
    "                ActionChains(driver).send_keys(Keys.ESCAPE).perform()\n",
    "                sleep(2)\n",
    "                \n",
    "                ### Manifesto/Stock iFrame\n",
    "                driver.find_element_by_xpath('//input[@name=\"AER\"]').click()\n",
    "                sleep(1)\n",
    "                try:\n",
    "                    driver.find_element_by_xpath('//span[@id=\"span_CGMOVSKID_0001\"]').click()\n",
    "                    sa = driver.find_element_by_xpath('//span[@id=\"span_vVCONSNOM_0001\"]').text\n",
    "                    ActionChains(driver).send_keys(Keys.ESCAPE).perform()\n",
    "                    sleep(1)\n",
    "                except:\n",
    "                    sa = 0 \n",
    "                razon_social.append(sa)\n",
    "                ActionChains(driver).send_keys(Keys.ESCAPE).perform()\n",
    "                sleep(2)\n",
    "                \n",
    "                ### Facturas iFrame\n",
    "                driver.find_element_by_xpath('//input[@name=\"FACTURAS\"]').click()\n",
    "                sleep(2)\n",
    "                fact_src = driver.page_source\n",
    "                fact_dfs = pd.read_html(fact_src)\n",
    "                lines_of_interest = lineas_df['Linea'].values\n",
    "                fact_dfs = fact_dfs[4]\n",
    "                fact_dfs['Lin.Dua'].astype('int').dtypes\n",
    "                fact_dfs[['Cant. prod. Und comerc', 'Precio unid. mercancía']].astype('float').dtypes\n",
    "                fact_dfs = fact_dfs.set_index('Lin.Dua').loc[lines_of_interest]\n",
    "                facturas_dfs.append(fact_dfs)\n",
    "                sleep(2)\n",
    "                \n",
    "                sleep(1)\n",
    "                ActionChains(driver).send_keys(Keys.ESCAPE).perform()\n",
    "                sleep(1)\n",
    "                ActionChains(driver).send_keys(Keys.ESCAPE).perform()\n",
    "                sleep(1)\n",
    "                scrape_pg = False\n",
    "    \n",
    "    \n",
    "    \n",
    "    if len(len_test)//10 != 0:\n",
    "        sleep(1)\n",
    "        driver.find_element_by_xpath('//input[@title=\"Siguiente\"]').click()\n",
    "        sleep(1)\n",
    "    else:\n",
    "        print('Job Done!')\n",
    "        scrape = False"
   ]
  },
  {
   "cell_type": "code",
   "execution_count": null,
   "metadata": {},
   "outputs": [],
   "source": []
  },
  {
   "cell_type": "code",
   "execution_count": null,
   "metadata": {},
   "outputs": [],
   "source": []
  },
  {
   "cell_type": "code",
   "execution_count": null,
   "metadata": {},
   "outputs": [],
   "source": [
    "driver.quit()"
   ]
  },
  {
   "cell_type": "code",
   "execution_count": null,
   "metadata": {},
   "outputs": [],
   "source": []
  }
 ],
 "metadata": {
  "kernelspec": {
   "display_name": "Python 3",
   "language": "python",
   "name": "python3"
  },
  "language_info": {
   "codemirror_mode": {
    "name": "ipython",
    "version": 3
   },
   "file_extension": ".py",
   "mimetype": "text/x-python",
   "name": "python",
   "nbconvert_exporter": "python",
   "pygments_lexer": "ipython3",
   "version": "3.7.7"
  }
 },
 "nbformat": 4,
 "nbformat_minor": 4
}
