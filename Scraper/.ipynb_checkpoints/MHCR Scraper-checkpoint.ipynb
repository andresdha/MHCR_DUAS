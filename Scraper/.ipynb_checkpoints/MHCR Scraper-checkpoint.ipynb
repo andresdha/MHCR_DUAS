{
 "cells": [
  {
   "cell_type": "code",
   "execution_count": 2,
   "metadata": {},
   "outputs": [],
   "source": [
    "from selenium import webdriver\n",
    "from selenium.webdriver.common.by import By\n",
    "from selenium.webdriver.common.keys import Keys\n",
    "from selenium.webdriver.common.action_chains import ActionChains\n",
    "from selenium.webdriver.support.ui import WebDriverWait\n",
    "from selenium.webdriver.support.expected_conditions import presence_of_element_located\n",
    "from webdriver_manager.chrome import ChromeDriverManager \n",
    "import pandas as pd\n",
    "from time import sleep"
   ]
  },
  {
   "cell_type": "code",
   "execution_count": 3,
   "metadata": {},
   "outputs": [],
   "source": [
    "range_low = '35078000'\n",
    "range_high = '35080000'\n",
    "start_date = '01/08/2020'\n",
    "end_date = '31/08/2020'"
   ]
  },
  {
   "cell_type": "code",
   "execution_count": 4,
   "metadata": {},
   "outputs": [
    {
     "name": "stderr",
     "output_type": "stream",
     "text": [
      "[WDM] - Current google-chrome version is 85.0.4183\n",
      "[WDM] - Get LATEST driver version for 85.0.4183\n"
     ]
    },
    {
     "name": "stdout",
     "output_type": "stream",
     "text": [
      " \n"
     ]
    },
    {
     "name": "stderr",
     "output_type": "stream",
     "text": [
      "[WDM] - Driver [/home/andres/.wdm/drivers/chromedriver/linux64/85.0.4183.87/chromedriver] found in cache\n"
     ]
    }
   ],
   "source": [
    "driver = webdriver.Chrome(ChromeDriverManager().install())\n",
    "\n",
    "driver.get('https://www.hacienda.go.cr/tica/web/hcitrncm1.aspx')"
   ]
  },
  {
   "cell_type": "code",
   "execution_count": 5,
   "metadata": {},
   "outputs": [],
   "source": [
    "img_src = driver.find_element_by_xpath('//div[@id=\"captchaImage\"]/img')\n"
   ]
  },
  {
   "cell_type": "code",
   "execution_count": 6,
   "metadata": {},
   "outputs": [
    {
     "data": {
      "text/plain": [
       " captcha_answer    profit\n",
       "Name: 13, dtype: object"
      ]
     },
     "execution_count": 6,
     "metadata": {},
     "output_type": "execute_result"
    }
   ],
   "source": [
    "img_src = img_src.get_attribute('src')\n",
    "captchas = pd.read_csv('../Captchas/captchas.csv', index_col=0)\n",
    "captcha_number = int(img_src.split('/')[-1].split('.')[0])\n",
    "captcha_value = captchas.iloc[captcha_number - 1]\n",
    "captcha_value"
   ]
  },
  {
   "cell_type": "code",
   "execution_count": 7,
   "metadata": {},
   "outputs": [],
   "source": [
    "driver.find_element_by_xpath('//select[@id=\"vVADUANA\"]/option[@value=\"X\"]').click()"
   ]
  },
  {
   "cell_type": "code",
   "execution_count": 8,
   "metadata": {},
   "outputs": [],
   "source": [
    "date_i = driver.find_element_by_xpath('//div[@id=\"vVFCHIN_dp_container\"]/input')"
   ]
  },
  {
   "cell_type": "code",
   "execution_count": 9,
   "metadata": {},
   "outputs": [],
   "source": [
    "date_i.send_keys(start_date)"
   ]
  },
  {
   "cell_type": "code",
   "execution_count": 10,
   "metadata": {},
   "outputs": [],
   "source": [
    "date_f = driver.find_element_by_xpath('//div[@id=\"vVFCHFN_dp_container\"]/input')"
   ]
  },
  {
   "cell_type": "code",
   "execution_count": 11,
   "metadata": {},
   "outputs": [],
   "source": [
    "date_f.send_keys(end_date)"
   ]
  },
  {
   "cell_type": "code",
   "execution_count": 12,
   "metadata": {},
   "outputs": [],
   "source": [
    "range_start = driver.find_element_by_xpath('//td/input[@id=\"vVNCMINI\"]')\n",
    "range_start.clear()\n",
    "range_start.send_keys(range_low)"
   ]
  },
  {
   "cell_type": "code",
   "execution_count": 13,
   "metadata": {},
   "outputs": [],
   "source": [
    "range_end = driver.find_element_by_xpath('//td/input[@id=\"vVNCMFIN\"]')\n",
    "range_end.clear()\n",
    "range_end.send_keys(range_high)"
   ]
  },
  {
   "cell_type": "code",
   "execution_count": 14,
   "metadata": {},
   "outputs": [],
   "source": [
    "captcha_field = driver.find_element_by_xpath('//input[@id=\"_cfield\"]')"
   ]
  },
  {
   "cell_type": "code",
   "execution_count": 15,
   "metadata": {},
   "outputs": [],
   "source": [
    "captcha_field.clear()"
   ]
  },
  {
   "cell_type": "code",
   "execution_count": 16,
   "metadata": {},
   "outputs": [],
   "source": [
    "captcha_field.send_keys(captcha_value)"
   ]
  },
  {
   "cell_type": "code",
   "execution_count": 17,
   "metadata": {},
   "outputs": [],
   "source": [
    "driver.find_element_by_xpath('//input[@name=\"BUTTON1\"]').click()\n"
   ]
  },
  {
   "cell_type": "code",
   "execution_count": 18,
   "metadata": {},
   "outputs": [
    {
     "name": "stdout",
     "output_type": "stream",
     "text": [
      "Page Numer 1\n",
      "Page Numer 2\n",
      "Page Numer 3\n",
      "Page Numer 4\n",
      "Page Numer 5\n",
      "Page Numer 6\n",
      "Job Done!\n"
     ]
    }
   ],
   "source": [
    "scrape = True\n",
    "page = 1\n",
    "\n",
    "while scrape:\n",
    "    \n",
    "    print(f'Page Number {page}')\n",
    "    sleep(1)\n",
    "    source = driver.page_source\n",
    "\n",
    "    tables = pd.read_html(source)\n",
    "\n",
    "    len_test = tables[9]\n",
    "    \n",
    "    sleep(1)\n",
    "\n",
    "    scrape_pg = True\n",
    "    \n",
    "    while scrape_pg:\n",
    "        sleep(1)\n",
    "        source = driver.page_source\n",
    "\n",
    "        tables = pd.read_html(source)\n",
    "\n",
    "        main_pg_data = tables[9]\n",
    "    \n",
    "        duas_df = main_pg_data.groupby('Numero', sort=False).size()\n",
    "        \n",
    "        for i in range(1, len(duas_df) +1):\n",
    "            sleep(2)\n",
    "            line = duas_df.iloc[:i].sum()\n",
    "            if (line != 10 and len(main_pg_data)//10 !=0) or (len(main_pg_data)//10 == 0):\n",
    "                xpath = f'//table[@id=\"SubfileContainerTbl\"]/tbody/tr/td[@colindex=\"2\"]/span[@id=\"span_vVNUMECORRE_000{str(line)}\"]/a'\n",
    "                sleep(2)\n",
    "                driver.find_element_by_xpath(xpath).click()\n",
    "                sleep(2)\n",
    "                ActionChains(driver).send_keys(Keys.ESCAPE).perform()\n",
    "                sleep(1)\n",
    "                if len(main_pg_data)//10 == 0:\n",
    "                    scrape_pg = False\n",
    "            elif line == 10:\n",
    "                xpath = f'//table[@id=\"SubfileContainerTbl\"]/tbody/tr/td[@colindex=\"2\"]/span[@id=\"span_vVNUMECORRE_00{str(line)}\"]/a'\n",
    "                sleep(2)\n",
    "                driver.find_element_by_xpath(xpath).click()\n",
    "                sleep(2)\n",
    "                ActionChains(driver).send_keys(Keys.ESCAPE).perform()\n",
    "                sleep(1)\n",
    "                scrape_pg = False\n",
    "    \n",
    "    if len(len_test)//10 != 0:\n",
    "        sleep(1)\n",
    "        page += 1\n",
    "        driver.find_element_by_xpath('//input[@title=\"Siguiente\"]').click()\n",
    "        sleep(1)\n",
    "    else:\n",
    "        print('Job Done!')\n",
    "        scrape = False"
   ]
  },
  {
   "cell_type": "code",
   "execution_count": null,
   "metadata": {},
   "outputs": [],
   "source": [
    "main_pg_data"
   ]
  },
  {
   "cell_type": "code",
   "execution_count": null,
   "metadata": {},
   "outputs": [],
   "source": [
    "duas_df"
   ]
  },
  {
   "cell_type": "code",
   "execution_count": null,
   "metadata": {},
   "outputs": [],
   "source": []
  },
  {
   "cell_type": "code",
   "execution_count": null,
   "metadata": {},
   "outputs": [],
   "source": []
  },
  {
   "cell_type": "code",
   "execution_count": null,
   "metadata": {},
   "outputs": [],
   "source": []
  },
  {
   "cell_type": "code",
   "execution_count": 19,
   "metadata": {},
   "outputs": [],
   "source": [
    "driver.quit()"
   ]
  },
  {
   "cell_type": "code",
   "execution_count": null,
   "metadata": {},
   "outputs": [],
   "source": []
  }
 ],
 "metadata": {
  "kernelspec": {
   "display_name": "Python 3",
   "language": "python",
   "name": "python3"
  },
  "language_info": {
   "codemirror_mode": {
    "name": "ipython",
    "version": 3
   },
   "file_extension": ".py",
   "mimetype": "text/x-python",
   "name": "python",
   "nbconvert_exporter": "python",
   "pygments_lexer": "ipython3",
   "version": "3.7.7"
  }
 },
 "nbformat": 4,
 "nbformat_minor": 4
}
