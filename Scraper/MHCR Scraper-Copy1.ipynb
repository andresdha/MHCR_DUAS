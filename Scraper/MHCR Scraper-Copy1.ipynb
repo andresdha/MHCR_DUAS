{
 "cells": [
  {
   "cell_type": "code",
   "execution_count": 1,
   "metadata": {},
   "outputs": [],
   "source": [
    "from selenium import webdriver\n",
    "from selenium.webdriver.common.by import By\n",
    "from selenium.webdriver.common.keys import Keys\n",
    "from selenium.webdriver.common.action_chains import ActionChains\n",
    "from selenium.webdriver.support.ui import WebDriverWait\n",
    "from selenium.webdriver.support.expected_conditions import presence_of_element_located\n",
    "from webdriver_manager.chrome import ChromeDriverManager \n",
    "import pandas as pd\n",
    "from time import sleep"
   ]
  },
  {
   "cell_type": "code",
   "execution_count": 2,
   "metadata": {},
   "outputs": [],
   "source": [
    "range_low = '35078000'\n",
    "range_high = '35080000'\n",
    "start_date = '01/05/2020'\n",
    "end_date = '31/05/2020'"
   ]
  },
  {
   "cell_type": "code",
   "execution_count": 3,
   "metadata": {},
   "outputs": [
    {
     "name": "stderr",
     "output_type": "stream",
     "text": [
      "[WDM] - Current google-chrome version is 85.0.4183\n",
      "[WDM] - Get LATEST driver version for 85.0.4183\n"
     ]
    },
    {
     "name": "stdout",
     "output_type": "stream",
     "text": [
      " \n"
     ]
    },
    {
     "name": "stderr",
     "output_type": "stream",
     "text": [
      "[WDM] - Driver [/home/andres/.wdm/drivers/chromedriver/linux64/85.0.4183.87/chromedriver] found in cache\n"
     ]
    }
   ],
   "source": [
    "driver = webdriver.Chrome(ChromeDriverManager().install())\n",
    "\n",
    "driver.get('https://www.hacienda.go.cr/tica/web/hcitrncm1.aspx')"
   ]
  },
  {
   "cell_type": "code",
   "execution_count": 4,
   "metadata": {},
   "outputs": [],
   "source": [
    "img_src = driver.find_element_by_xpath('//div[@id=\"captchaImage\"]/img')\n"
   ]
  },
  {
   "cell_type": "code",
   "execution_count": 5,
   "metadata": {},
   "outputs": [
    {
     "data": {
      "text/plain": [
       " captcha_answer    horse\n",
       "Name: 139, dtype: object"
      ]
     },
     "execution_count": 5,
     "metadata": {},
     "output_type": "execute_result"
    }
   ],
   "source": [
    "img_src = img_src.get_attribute('src')\n",
    "captchas = pd.read_csv('../Captchas/captchas.csv', index_col=0)\n",
    "captcha_number = int(img_src.split('/')[-1].split('.')[0])\n",
    "captcha_value = captchas.iloc[captcha_number - 1]\n",
    "captcha_value"
   ]
  },
  {
   "cell_type": "code",
   "execution_count": 6,
   "metadata": {},
   "outputs": [],
   "source": [
    "driver.find_element_by_xpath('//select[@id=\"vVADUANA\"]/option[@value=\"X\"]').click()"
   ]
  },
  {
   "cell_type": "code",
   "execution_count": 7,
   "metadata": {},
   "outputs": [],
   "source": [
    "date_i = driver.find_element_by_xpath('//div[@id=\"vVFCHIN_dp_container\"]/input')"
   ]
  },
  {
   "cell_type": "code",
   "execution_count": 8,
   "metadata": {},
   "outputs": [],
   "source": [
    "date_i.send_keys(start_date)"
   ]
  },
  {
   "cell_type": "code",
   "execution_count": 9,
   "metadata": {},
   "outputs": [],
   "source": [
    "date_f = driver.find_element_by_xpath('//div[@id=\"vVFCHFN_dp_container\"]/input')"
   ]
  },
  {
   "cell_type": "code",
   "execution_count": 10,
   "metadata": {},
   "outputs": [],
   "source": [
    "date_f.send_keys(end_date)"
   ]
  },
  {
   "cell_type": "code",
   "execution_count": 11,
   "metadata": {},
   "outputs": [],
   "source": [
    "range_start = driver.find_element_by_xpath('//td/input[@id=\"vVNCMINI\"]')\n",
    "range_start.clear()\n",
    "range_start.send_keys(range_low)"
   ]
  },
  {
   "cell_type": "code",
   "execution_count": 12,
   "metadata": {},
   "outputs": [],
   "source": [
    "range_end = driver.find_element_by_xpath('//td/input[@id=\"vVNCMFIN\"]')\n",
    "range_end.clear()\n",
    "range_end.send_keys(range_high)"
   ]
  },
  {
   "cell_type": "code",
   "execution_count": 13,
   "metadata": {},
   "outputs": [],
   "source": [
    "captcha_field = driver.find_element_by_xpath('//input[@id=\"_cfield\"]')"
   ]
  },
  {
   "cell_type": "code",
   "execution_count": 14,
   "metadata": {},
   "outputs": [],
   "source": [
    "captcha_field.clear()"
   ]
  },
  {
   "cell_type": "code",
   "execution_count": 15,
   "metadata": {},
   "outputs": [],
   "source": [
    "captcha_field.send_keys(captcha_value)"
   ]
  },
  {
   "cell_type": "code",
   "execution_count": 16,
   "metadata": {},
   "outputs": [],
   "source": [
    "driver.find_element_by_xpath('//input[@name=\"BUTTON1\"]').click()"
   ]
  },
  {
   "cell_type": "code",
   "execution_count": 17,
   "metadata": {},
   "outputs": [],
   "source": [
    "# Lists to store scraped data points\n",
    "main_pg_dfs = []\n",
    "duas_dfs = []\n",
    "declarantes = []\n",
    "tipos_cambio = []\n",
    "bultos = []\n",
    "razon_social = []\n",
    "facturas_dfs = []"
   ]
  },
  {
   "cell_type": "code",
   "execution_count": 18,
   "metadata": {},
   "outputs": [
    {
     "name": "stdout",
     "output_type": "stream",
     "text": [
      "New Page\n",
      "New Page\n",
      "New Page\n",
      "New Page\n",
      "New Page\n",
      "New Page\n",
      "Job Done!\n"
     ]
    }
   ],
   "source": [
    "scrape = True\n",
    "\n",
    "while scrape:\n",
    "### Navigates Through Result Pages\n",
    "    print('New Page')\n",
    "    sleep(1)\n",
    "    source = driver.page_source\n",
    "\n",
    "    tables = pd.read_html(source)\n",
    "\n",
    "    len_test = tables[9]\n",
    "    \n",
    "    sleep(1)\n",
    "\n",
    "    scrape_pg = True\n",
    "    \n",
    "    while scrape_pg:\n",
    "    ### Opens Every Result Link Withing the Page\n",
    "        sleep(1)\n",
    "        source = driver.page_source\n",
    "\n",
    "        tables = pd.read_html(source)\n",
    "\n",
    "        main_pg_data = tables[9]\n",
    "        main_pg_dfs.append(main_pg_data)\n",
    "    \n",
    "        duas_df = main_pg_data.groupby('Numero', sort=False).size()\n",
    "        duas_dfs.append(duas_df)\n",
    "        \n",
    "        for i in range(1, len(duas_df) +1):\n",
    "            sleep(2)\n",
    "            line = duas_df.iloc[:i].sum()\n",
    "            if (line != 10 and len(main_pg_data)//10 !=0) or (len(main_pg_data)//10 == 0):\n",
    "                xpath = f'//table[@id=\"SubfileContainerTbl\"]/tbody/tr/td[@colindex=\"2\"]/span[@id=\"span_vVNUMECORRE_000{str(line)}\"]/a'\n",
    "                sleep(2)\n",
    "                driver.find_element_by_xpath(xpath).click()\n",
    "                sleep(2)\n",
    "                iframe = driver.find_element_by_xpath('//iframe')\n",
    "                driver.switch_to.frame(iframe)\n",
    "                sleep(1)\n",
    "                \n",
    "                ### Scraping Main iFrame\n",
    "                declarante = driver.find_element_by_xpath('//span[@id=\"span_vVNOMDECL\"]').text\n",
    "                declarantes.append(declarante)\n",
    "                tipo_cambio_v = float(driver.find_element_by_xpath('//span[@id=\"span_TIPCAMVEN\"]').text)\n",
    "                tipos_cambio.append(tipo_cambio_v)\n",
    "                n_lineas = int(driver.find_element_by_xpath('//span[@id=\"span_vVLINEAS\"]').text)\n",
    "                \n",
    "                ### Lineas Dua iFrame\n",
    "                lineas_dfs = []\n",
    "                pgs = n_lineas // 20 + 1\n",
    "                driver.find_element_by_xpath('//input[@name=\"LINEAS\"]').click()\n",
    "                sleep(2)\n",
    "                for page in range(pgs):\n",
    "                ### Iterating over pages within this section of iframe\n",
    "                    sleep(1)\n",
    "    \n",
    "                    lineas_src = driver.page_source\n",
    "                    lineas_dfs.append(pd.read_html(lineas_src))\n",
    "                    sleep(1)\n",
    "                    driver.find_element_by_xpath('//input[@name=\"SIGUIENTE\"]').click()\n",
    "                lineas_dfs = [lineas_dfs[i][1] for i in range(pgs)]\n",
    "                lineas_df = pd.concat(lineas_dfs)\n",
    "                lineas_df[['Linea', 'Partida', 'Bultos']].astype('int').dtypes\n",
    "                lineas_df['Partida'] = lineas_df['Partida'].apply(lambda x: int(x/10000))\n",
    "                lineas_df = lineas_df[(lineas_df['Partida'] > int(range_low)) & (lineas_df['Partida'] < int(range_high))]\n",
    "                n_bultos = lineas_df['Bultos'].sum()\n",
    "                bultos.append(n_bultos)\n",
    "                sleep(2)\n",
    "                ActionChains(driver).send_keys(Keys.ESCAPE).perform()\n",
    "                sleep(2)\n",
    "                \n",
    "                ### Manifesto/Stock iFrame\n",
    "                driver.find_element_by_xpath('//input[@name=\"AER\"]').click()\n",
    "                sleep(1)\n",
    "                try:\n",
    "                    driver.find_element_by_xpath('//span[@id=\"span_CGMOVSKID_0001\"]').click()\n",
    "                    sa = driver.find_element_by_xpath('//span[@id=\"span_vVCONSNOM_0001\"]').text\n",
    "                    ActionChains(driver).send_keys(Keys.ESCAPE).perform()\n",
    "                    sleep(1)\n",
    "                except:\n",
    "                    sa = 0 \n",
    "                razon_social.append(sa)\n",
    "                \n",
    "                sleep(1)\n",
    "                ActionChains(driver).send_keys(Keys.ESCAPE).perform()\n",
    "                sleep(2)\n",
    "                \n",
    "                ### Facturas iFrame\n",
    "                driver.find_element_by_xpath('//input[@name=\"FACTURAS\"]').click()\n",
    "                sleep(2)\n",
    "                fact_src = driver.page_source\n",
    "                fact_dfs = pd.read_html(fact_src)\n",
    "                lines_of_interest = lineas_df['Linea'].values\n",
    "                fact_dfs = fact_dfs[4]\n",
    "                fact_dfs['Lin.Dua'].astype('int').dtypes\n",
    "                fact_dfs[['Cant. prod. Und comerc', 'Precio unid. mercancía']].astype('float').dtypes\n",
    "                fact_dfs = fact_dfs.set_index('Lin.Dua').loc[lines_of_interest]\n",
    "                facturas_dfs.append(fact_dfs)\n",
    "                \n",
    "                sleep(1)\n",
    "                ActionChains(driver).send_keys(Keys.ESCAPE).perform()\n",
    "                sleep(1)\n",
    "                ActionChains(driver).send_keys(Keys.ESCAPE).perform()\n",
    "                sleep(1)\n",
    "                if len(main_pg_data)//10 == 0:\n",
    "                    scrape_pg = False\n",
    "            \n",
    "            \n",
    "            elif line == 10:\n",
    "                xpath = f'//table[@id=\"SubfileContainerTbl\"]/tbody/tr/td[@colindex=\"2\"]/span[@id=\"span_vVNUMECORRE_00{str(line)}\"]/a'\n",
    "                sleep(2)\n",
    "                driver.find_element_by_xpath(xpath).click()\n",
    "                sleep(2)\n",
    "                iframe = driver.find_element_by_xpath('//iframe')\n",
    "                driver.switch_to.frame(iframe)\n",
    "                sleep(1)\n",
    "                \n",
    "                ### Scraping Main iFrame\n",
    "                declarante = driver.find_element_by_xpath('//span[@id=\"span_vVNOMDECL\"]').text\n",
    "                declarantes.append(declarante)\n",
    "                tipo_cambio_v = float(driver.find_element_by_xpath('//span[@id=\"span_TIPCAMVEN\"]').text)\n",
    "                tipos_cambio.append(tipo_cambio_v)\n",
    "                n_lineas = int(driver.find_element_by_xpath('//span[@id=\"span_vVLINEAS\"]').text)\n",
    "                \n",
    "                ### Lineas Dua iFrame\n",
    "                lineas_dfs = []\n",
    "                pgs = n_lineas // 20 + 1\n",
    "                driver.find_element_by_xpath('//input[@name=\"LINEAS\"]').click()\n",
    "                sleep(2)\n",
    "                for page in range(pgs):\n",
    "                ### Iterating over pages within this section of iframe\n",
    "                    sleep(1)\n",
    "    \n",
    "                    lineas_src = driver.page_source\n",
    "                    lineas_dfs.append(pd.read_html(lineas_src))\n",
    "    \n",
    "                    driver.find_element_by_xpath('//input[@name=\"SIGUIENTE\"]').click()\n",
    "                lineas_dfs = [lineas_dfs[i][1] for i in range(pgs)]\n",
    "                lineas_df = pd.concat(lineas_dfs)\n",
    "                lineas_df[['Linea', 'Partida', 'Bultos']].astype('int').dtypes\n",
    "                lineas_df['Partida'] = lineas_df['Partida'].apply(lambda x: int(x/10000))\n",
    "                lineas_df = lineas_df[(lineas_df['Partida'] > int(range_low)) & (lineas_df['Partida'] < int(range_high))]\n",
    "                n_bultos = lineas_df['Bultos'].sum()\n",
    "                bultos.append(n_bultos)\n",
    "                sleep(2)\n",
    "                ActionChains(driver).send_keys(Keys.ESCAPE).perform()\n",
    "                sleep(2)\n",
    "                \n",
    "                ### Manifesto/Stock iFrame\n",
    "                driver.find_element_by_xpath('//input[@name=\"AER\"]').click()\n",
    "                sleep(1)\n",
    "                try:\n",
    "                    driver.find_element_by_xpath('//span[@id=\"span_CGMOVSKID_0001\"]').click()\n",
    "                    sa = driver.find_element_by_xpath('//span[@id=\"span_vVCONSNOM_0001\"]').text\n",
    "                    ActionChains(driver).send_keys(Keys.ESCAPE).perform()\n",
    "                    sleep(1)\n",
    "                except:\n",
    "                    sa = 0 \n",
    "                razon_social.append(sa)\n",
    "                \n",
    "                sleep(1)\n",
    "                ActionChains(driver).send_keys(Keys.ESCAPE).perform()\n",
    "                sleep(2)\n",
    "                \n",
    "                ### Facturas iFrame\n",
    "                driver.find_element_by_xpath('//input[@name=\"FACTURAS\"]').click()\n",
    "                sleep(2)\n",
    "                fact_src = driver.page_source\n",
    "                fact_dfs = pd.read_html(fact_src)\n",
    "                lines_of_interest = lineas_df['Linea'].values\n",
    "                fact_dfs = fact_dfs[4]\n",
    "                fact_dfs['Lin.Dua'].astype('int').dtypes\n",
    "                fact_dfs[['Cant. prod. Und comerc', 'Precio unid. mercancía']].astype('float').dtypes\n",
    "                fact_dfs = fact_dfs.set_index('Lin.Dua').loc[lines_of_interest]\n",
    "                facturas_dfs.append(fact_dfs)\n",
    "                sleep(2)\n",
    "                \n",
    "                sleep(1)\n",
    "                ActionChains(driver).send_keys(Keys.ESCAPE).perform()\n",
    "                sleep(1)\n",
    "                ActionChains(driver).send_keys(Keys.ESCAPE).perform()\n",
    "                sleep(1)\n",
    "                scrape_pg = False\n",
    "    \n",
    "    \n",
    "    \n",
    "    if len(len_test)//10 != 0:\n",
    "        sleep(1)\n",
    "        driver.find_element_by_xpath('//input[@title=\"Siguiente\"]').click()\n",
    "        sleep(1)\n",
    "    else:\n",
    "        print('Job Done!')\n",
    "        scrape = False"
   ]
  },
  {
   "cell_type": "code",
   "execution_count": 19,
   "metadata": {},
   "outputs": [],
   "source": [
    "driver.quit()"
   ]
  },
  {
   "cell_type": "code",
   "execution_count": 20,
   "metadata": {},
   "outputs": [
    {
     "data": {
      "text/plain": [
       "6"
      ]
     },
     "execution_count": 20,
     "metadata": {},
     "output_type": "execute_result"
    }
   ],
   "source": [
    "len(main_pg_dfs)"
   ]
  },
  {
   "cell_type": "code",
   "execution_count": 21,
   "metadata": {},
   "outputs": [
    {
     "data": {
      "text/plain": [
       "6"
      ]
     },
     "execution_count": 21,
     "metadata": {},
     "output_type": "execute_result"
    }
   ],
   "source": [
    "len(duas_dfs)"
   ]
  },
  {
   "cell_type": "code",
   "execution_count": 22,
   "metadata": {},
   "outputs": [
    {
     "data": {
      "text/plain": [
       "35"
      ]
     },
     "execution_count": 22,
     "metadata": {},
     "output_type": "execute_result"
    }
   ],
   "source": [
    "len(declarantes)"
   ]
  },
  {
   "cell_type": "code",
   "execution_count": 23,
   "metadata": {},
   "outputs": [
    {
     "data": {
      "text/plain": [
       "35"
      ]
     },
     "execution_count": 23,
     "metadata": {},
     "output_type": "execute_result"
    }
   ],
   "source": [
    "len(tipos_cambio)"
   ]
  },
  {
   "cell_type": "code",
   "execution_count": 24,
   "metadata": {},
   "outputs": [
    {
     "data": {
      "text/plain": [
       "35"
      ]
     },
     "execution_count": 24,
     "metadata": {},
     "output_type": "execute_result"
    }
   ],
   "source": [
    "len(bultos)"
   ]
  },
  {
   "cell_type": "code",
   "execution_count": 25,
   "metadata": {},
   "outputs": [
    {
     "data": {
      "text/plain": [
       "35"
      ]
     },
     "execution_count": 25,
     "metadata": {},
     "output_type": "execute_result"
    }
   ],
   "source": [
    "len(razon_social)"
   ]
  },
  {
   "cell_type": "code",
   "execution_count": 26,
   "metadata": {},
   "outputs": [
    {
     "data": {
      "text/plain": [
       "35"
      ]
     },
     "execution_count": 26,
     "metadata": {},
     "output_type": "execute_result"
    }
   ],
   "source": [
    "len(facturas_dfs)"
   ]
  },
  {
   "cell_type": "code",
   "execution_count": 27,
   "metadata": {},
   "outputs": [
    {
     "data": {
      "text/plain": [
       "52"
      ]
     },
     "execution_count": 27,
     "metadata": {},
     "output_type": "execute_result"
    }
   ],
   "source": [
    "main_pg_results = pd.concat(main_pg_dfs).reset_index().drop('index', axis=1)\n",
    "len(main_pg_results)"
   ]
  },
  {
   "cell_type": "code",
   "execution_count": 28,
   "metadata": {},
   "outputs": [
    {
     "data": {
      "text/html": [
       "<div>\n",
       "<style scoped>\n",
       "    .dataframe tbody tr th:only-of-type {\n",
       "        vertical-align: middle;\n",
       "    }\n",
       "\n",
       "    .dataframe tbody tr th {\n",
       "        vertical-align: top;\n",
       "    }\n",
       "\n",
       "    .dataframe thead th {\n",
       "        text-align: right;\n",
       "    }\n",
       "</style>\n",
       "<table border=\"1\" class=\"dataframe\">\n",
       "  <thead>\n",
       "    <tr style=\"text-align: right;\">\n",
       "      <th></th>\n",
       "      <th>Factura</th>\n",
       "      <th>Lin.Factura</th>\n",
       "      <th>Cód. Producto</th>\n",
       "      <th>D e s c r i p c i ó n</th>\n",
       "      <th>Cant. prod. Und comerc</th>\n",
       "      <th>Precio unid. mercancía</th>\n",
       "      <th>Marca mercancía</th>\n",
       "      <th>Modelo mercancía</th>\n",
       "    </tr>\n",
       "    <tr>\n",
       "      <th>Lin.Dua</th>\n",
       "      <th></th>\n",
       "      <th></th>\n",
       "      <th></th>\n",
       "      <th></th>\n",
       "      <th></th>\n",
       "      <th></th>\n",
       "      <th></th>\n",
       "      <th></th>\n",
       "    </tr>\n",
       "  </thead>\n",
       "  <tbody>\n",
       "    <tr>\n",
       "      <th>1</th>\n",
       "      <td>45621</td>\n",
       "      <td>1</td>\n",
       "      <td>NaN</td>\n",
       "      <td>ENZIMA TRANSGLUTAMINASA</td>\n",
       "      <td>300.0</td>\n",
       "      <td>24.32</td>\n",
       "      <td>AJINOMOTO</td>\n",
       "      <td>ACTIVA TG-S-NF</td>\n",
       "    </tr>\n",
       "    <tr>\n",
       "      <th>2</th>\n",
       "      <td>45621</td>\n",
       "      <td>2</td>\n",
       "      <td>NaN</td>\n",
       "      <td>ENZIMA TRANSGLUTAMINASA</td>\n",
       "      <td>70.0</td>\n",
       "      <td>66.32</td>\n",
       "      <td>AJINOMOTO</td>\n",
       "      <td>ACTIVA BFB</td>\n",
       "    </tr>\n",
       "  </tbody>\n",
       "</table>\n",
       "</div>"
      ],
      "text/plain": [
       "         Factura  Lin.Factura  Cód. Producto    D e s c r i p c i ó n  \\\n",
       "Lin.Dua                                                                 \n",
       "1          45621            1            NaN  ENZIMA TRANSGLUTAMINASA   \n",
       "2          45621            2            NaN  ENZIMA TRANSGLUTAMINASA   \n",
       "\n",
       "         Cant. prod. Und comerc  Precio unid. mercancía Marca mercancía  \\\n",
       "Lin.Dua                                                                   \n",
       "1                         300.0                   24.32       AJINOMOTO   \n",
       "2                          70.0                   66.32       AJINOMOTO   \n",
       "\n",
       "        Modelo mercancía  \n",
       "Lin.Dua                   \n",
       "1         ACTIVA TG-S-NF  \n",
       "2             ACTIVA BFB  "
      ]
     },
     "execution_count": 28,
     "metadata": {},
     "output_type": "execute_result"
    }
   ],
   "source": [
    "facturas_dfs[0]"
   ]
  },
  {
   "cell_type": "code",
   "execution_count": 29,
   "metadata": {},
   "outputs": [],
   "source": [
    "temp = [facturas_dfs[i] for i in range(len(facturas_dfs))]"
   ]
  },
  {
   "cell_type": "code",
   "execution_count": 30,
   "metadata": {},
   "outputs": [],
   "source": [
    "temp = pd.concat(temp)"
   ]
  },
  {
   "cell_type": "code",
   "execution_count": 31,
   "metadata": {},
   "outputs": [
    {
     "data": {
      "text/plain": [
       "63"
      ]
     },
     "execution_count": 31,
     "metadata": {},
     "output_type": "execute_result"
    }
   ],
   "source": [
    "len(temp)"
   ]
  },
  {
   "cell_type": "code",
   "execution_count": 32,
   "metadata": {},
   "outputs": [
    {
     "data": {
      "text/plain": [
       "52"
      ]
     },
     "execution_count": 32,
     "metadata": {},
     "output_type": "execute_result"
    }
   ],
   "source": [
    "temp = temp.drop_duplicates()\n",
    "len(temp)"
   ]
  },
  {
   "cell_type": "code",
   "execution_count": 33,
   "metadata": {},
   "outputs": [],
   "source": [
    "temp.to_csv('Results/Facturas_Mayo.csv', index=True)"
   ]
  },
  {
   "cell_type": "code",
   "execution_count": 34,
   "metadata": {},
   "outputs": [],
   "source": [
    "main_pg_results['Peso (kg)'] = temp['Cant. prod. Und comerc'].values"
   ]
  },
  {
   "cell_type": "code",
   "execution_count": 35,
   "metadata": {},
   "outputs": [],
   "source": [
    "main_pg_results['Precio Unidad Mercancía ($)'] = temp['Precio unid. mercancía'].values"
   ]
  },
  {
   "cell_type": "code",
   "execution_count": 36,
   "metadata": {},
   "outputs": [],
   "source": [
    "main_pg_results['Total ($)'] = main_pg_results['Peso (kg)']*main_pg_results['Precio Unidad Mercancía ($)']"
   ]
  },
  {
   "cell_type": "code",
   "execution_count": 37,
   "metadata": {},
   "outputs": [],
   "source": [
    "main_pg_results.to_csv('Results/Mayo_Resultados_Pag_Principal.csv', index=False)"
   ]
  },
  {
   "cell_type": "code",
   "execution_count": 38,
   "metadata": {},
   "outputs": [],
   "source": [
    "duas_data = pd.concat(duas_dfs)"
   ]
  },
  {
   "cell_type": "code",
   "execution_count": 39,
   "metadata": {},
   "outputs": [
    {
     "data": {
      "text/plain": [
       "35"
      ]
     },
     "execution_count": 39,
     "metadata": {},
     "output_type": "execute_result"
    }
   ],
   "source": [
    "len(duas_data)"
   ]
  },
  {
   "cell_type": "code",
   "execution_count": 40,
   "metadata": {},
   "outputs": [],
   "source": [
    "data = pd.DataFrame(duas_data, columns={'Cantidad'})"
   ]
  },
  {
   "cell_type": "code",
   "execution_count": 41,
   "metadata": {},
   "outputs": [],
   "source": [
    "data['Declarante'] = declarantes\n",
    "data['Tipo Cambio'] = tipos_cambio\n",
    "data['Bultos'] = bultos\n",
    "data['Razon Social'] = razon_social"
   ]
  },
  {
   "cell_type": "code",
   "execution_count": 42,
   "metadata": {},
   "outputs": [],
   "source": [
    "temp_sum = [facturas_dfs[i][['Cant. prod. Und comerc', 'Precio unid. mercancía']].sum() for i in range(len(facturas_dfs))]"
   ]
  },
  {
   "cell_type": "code",
   "execution_count": 43,
   "metadata": {},
   "outputs": [],
   "source": [
    "weights_sum = [temp_sum[i][0] for i in range(len(temp_sum))]"
   ]
  },
  {
   "cell_type": "code",
   "execution_count": 44,
   "metadata": {},
   "outputs": [],
   "source": [
    "data['Peso (kg)'] = weights_sum"
   ]
  },
  {
   "cell_type": "code",
   "execution_count": 45,
   "metadata": {},
   "outputs": [],
   "source": [
    "cost_sum = [temp_sum[i][1] for i in range(len(temp_sum))]"
   ]
  },
  {
   "cell_type": "code",
   "execution_count": 46,
   "metadata": {},
   "outputs": [],
   "source": [
    "data['Precio Unidad Mercancía ($)'] = cost_sum"
   ]
  },
  {
   "cell_type": "code",
   "execution_count": 47,
   "metadata": {},
   "outputs": [],
   "source": [
    "data['Total ($)'] = data['Peso (kg)']*data['Precio Unidad Mercancía ($)']"
   ]
  },
  {
   "cell_type": "code",
   "execution_count": 48,
   "metadata": {},
   "outputs": [],
   "source": [
    "data.to_csv('Results/Mayo_Data.csv', index=True)"
   ]
  },
  {
   "cell_type": "code",
   "execution_count": 49,
   "metadata": {},
   "outputs": [],
   "source": [
    "writer = pd.ExcelWriter('Results/Datos_Mayo.xlsx', engine='xlsxwriter')"
   ]
  },
  {
   "cell_type": "code",
   "execution_count": 50,
   "metadata": {},
   "outputs": [],
   "source": [
    "data.to_excel(writer, sheet_name='Detalle', index=True)"
   ]
  },
  {
   "cell_type": "code",
   "execution_count": 51,
   "metadata": {},
   "outputs": [],
   "source": [
    "main_pg_results.to_excel(writer, sheet_name='Descripcion', index=False)"
   ]
  },
  {
   "cell_type": "code",
   "execution_count": 52,
   "metadata": {},
   "outputs": [],
   "source": [
    "writer.save()"
   ]
  },
  {
   "cell_type": "code",
   "execution_count": null,
   "metadata": {},
   "outputs": [],
   "source": []
  }
 ],
 "metadata": {
  "kernelspec": {
   "display_name": "Python 3",
   "language": "python",
   "name": "python3"
  },
  "language_info": {
   "codemirror_mode": {
    "name": "ipython",
    "version": 3
   },
   "file_extension": ".py",
   "mimetype": "text/x-python",
   "name": "python",
   "nbconvert_exporter": "python",
   "pygments_lexer": "ipython3",
   "version": "3.7.7"
  }
 },
 "nbformat": 4,
 "nbformat_minor": 4
}
