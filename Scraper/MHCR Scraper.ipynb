{
 "cells": [
  {
   "cell_type": "code",
   "execution_count": 1,
   "metadata": {},
   "outputs": [],
   "source": [
    "from selenium import webdriver\n",
    "from selenium.webdriver.common.by import By\n",
    "from selenium.webdriver.common.keys import Keys\n",
    "from selenium.webdriver.common.action_chains import ActionChains\n",
    "from selenium.webdriver.support.ui import WebDriverWait\n",
    "from selenium.webdriver.support.expected_conditions import presence_of_element_located\n",
    "from webdriver_manager.chrome import ChromeDriverManager \n",
    "import pandas as pd\n",
    "from time import sleep"
   ]
  },
  {
   "cell_type": "code",
   "execution_count": 2,
   "metadata": {},
   "outputs": [],
   "source": [
    "range_low = '35078000'\n",
    "range_high = '35080000'\n",
    "start_date = '01/08/2020'\n",
    "end_date = '31/08/2020'"
   ]
  },
  {
   "cell_type": "code",
   "execution_count": 3,
   "metadata": {},
   "outputs": [
    {
     "name": "stderr",
     "output_type": "stream",
     "text": [
      "[WDM] - Current google-chrome version is 85.0.4183\n",
      "[WDM] - Get LATEST driver version for 85.0.4183\n"
     ]
    },
    {
     "name": "stdout",
     "output_type": "stream",
     "text": [
      " \n"
     ]
    },
    {
     "name": "stderr",
     "output_type": "stream",
     "text": [
      "[WDM] - Driver [/home/andres/.wdm/drivers/chromedriver/linux64/85.0.4183.87/chromedriver] found in cache\n"
     ]
    }
   ],
   "source": [
    "driver = webdriver.Chrome(ChromeDriverManager().install())\n",
    "\n",
    "driver.get('https://www.hacienda.go.cr/tica/web/hcitrncm1.aspx')"
   ]
  },
  {
   "cell_type": "code",
   "execution_count": 4,
   "metadata": {},
   "outputs": [],
   "source": [
    "img_src = driver.find_element_by_xpath('//div[@id=\"captchaImage\"]/img')\n"
   ]
  },
  {
   "cell_type": "code",
   "execution_count": 5,
   "metadata": {},
   "outputs": [
    {
     "data": {
      "text/plain": [
       " captcha_answer    jump\n",
       "Name: 75, dtype: object"
      ]
     },
     "execution_count": 5,
     "metadata": {},
     "output_type": "execute_result"
    }
   ],
   "source": [
    "img_src = img_src.get_attribute('src')\n",
    "captchas = pd.read_csv('../Captchas/captchas.csv', index_col=0)\n",
    "captcha_number = int(img_src.split('/')[-1].split('.')[0])\n",
    "captcha_value = captchas.iloc[captcha_number - 1]\n",
    "captcha_value"
   ]
  },
  {
   "cell_type": "code",
   "execution_count": 6,
   "metadata": {},
   "outputs": [],
   "source": [
    "driver.find_element_by_xpath('//select[@id=\"vVADUANA\"]/option[@value=\"X\"]').click()"
   ]
  },
  {
   "cell_type": "code",
   "execution_count": 7,
   "metadata": {},
   "outputs": [],
   "source": [
    "date_i = driver.find_element_by_xpath('//div[@id=\"vVFCHIN_dp_container\"]/input')"
   ]
  },
  {
   "cell_type": "code",
   "execution_count": 8,
   "metadata": {},
   "outputs": [],
   "source": [
    "date_i.send_keys(start_date)"
   ]
  },
  {
   "cell_type": "code",
   "execution_count": 9,
   "metadata": {},
   "outputs": [],
   "source": [
    "date_f = driver.find_element_by_xpath('//div[@id=\"vVFCHFN_dp_container\"]/input')"
   ]
  },
  {
   "cell_type": "code",
   "execution_count": 10,
   "metadata": {},
   "outputs": [],
   "source": [
    "date_f.send_keys(end_date)"
   ]
  },
  {
   "cell_type": "code",
   "execution_count": 11,
   "metadata": {},
   "outputs": [],
   "source": [
    "range_start = driver.find_element_by_xpath('//td/input[@id=\"vVNCMINI\"]')\n",
    "range_start.clear()\n",
    "range_start.send_keys(range_low)"
   ]
  },
  {
   "cell_type": "code",
   "execution_count": 12,
   "metadata": {},
   "outputs": [],
   "source": [
    "range_end = driver.find_element_by_xpath('//td/input[@id=\"vVNCMFIN\"]')\n",
    "range_end.clear()\n",
    "range_end.send_keys(range_high)"
   ]
  },
  {
   "cell_type": "code",
   "execution_count": 13,
   "metadata": {},
   "outputs": [],
   "source": [
    "captcha_field = driver.find_element_by_xpath('//input[@id=\"_cfield\"]')"
   ]
  },
  {
   "cell_type": "code",
   "execution_count": 14,
   "metadata": {},
   "outputs": [],
   "source": [
    "captcha_field.clear()"
   ]
  },
  {
   "cell_type": "code",
   "execution_count": 15,
   "metadata": {},
   "outputs": [],
   "source": [
    "captcha_field.send_keys(captcha_value)"
   ]
  },
  {
   "cell_type": "code",
   "execution_count": 16,
   "metadata": {},
   "outputs": [],
   "source": [
    "driver.find_element_by_xpath('//input[@name=\"BUTTON1\"]').click()"
   ]
  },
  {
   "cell_type": "code",
   "execution_count": 17,
   "metadata": {},
   "outputs": [],
   "source": [
    "# Lists to store scraped data points\n",
    "main_pg_dfs = []\n",
    "duas_dfs = []\n",
    "declarantes = []\n",
    "tipos_cambio = []\n",
    "bultos = []\n",
    "razon_social = []\n",
    "facturas_dfs = []"
   ]
  },
  {
   "cell_type": "code",
   "execution_count": 18,
   "metadata": {},
   "outputs": [
    {
     "name": "stdout",
     "output_type": "stream",
     "text": [
      "New Page\n",
      "New Page\n",
      "New Page\n",
      "New Page\n",
      "New Page\n",
      "New Page\n",
      "Job Done!\n"
     ]
    }
   ],
   "source": [
    "scrape = True\n",
    "\n",
    "while scrape:\n",
    "### Navigates Through Result Pages\n",
    "    print('New Page')\n",
    "    sleep(1)\n",
    "    source = driver.page_source\n",
    "\n",
    "    tables = pd.read_html(source)\n",
    "\n",
    "    len_test = tables[9]\n",
    "    \n",
    "    sleep(1)\n",
    "\n",
    "    scrape_pg = True\n",
    "    \n",
    "    while scrape_pg:\n",
    "    ### Opens Every Result Link Withing the Page\n",
    "        sleep(1)\n",
    "        source = driver.page_source\n",
    "\n",
    "        tables = pd.read_html(source)\n",
    "\n",
    "        main_pg_data = tables[9]\n",
    "        main_pg_dfs.append(main_pg_data)\n",
    "    \n",
    "        duas_df = main_pg_data.groupby('Numero', sort=False).size()\n",
    "        duas_dfs.append(duas_df)\n",
    "        \n",
    "        for i in range(1, len(duas_df) +1):\n",
    "            sleep(2)\n",
    "            line = duas_df.iloc[:i].sum()\n",
    "            if (line != 10 and len(main_pg_data)//10 !=0) or (len(main_pg_data)//10 == 0):\n",
    "                xpath = f'//table[@id=\"SubfileContainerTbl\"]/tbody/tr/td[@colindex=\"2\"]/span[@id=\"span_vVNUMECORRE_000{str(line)}\"]/a'\n",
    "                sleep(2)\n",
    "                driver.find_element_by_xpath(xpath).click()\n",
    "                sleep(2)\n",
    "                iframe = driver.find_element_by_xpath('//iframe')\n",
    "                driver.switch_to.frame(iframe)\n",
    "                sleep(1)\n",
    "                \n",
    "                ### Scraping Main iFrame\n",
    "                declarante = driver.find_element_by_xpath('//span[@id=\"span_vVNOMDECL\"]').text\n",
    "                declarantes.append(declarante)\n",
    "                tipo_cambio_v = float(driver.find_element_by_xpath('//span[@id=\"span_TIPCAMVEN\"]').text)\n",
    "                tipos_cambio.append(tipo_cambio_v)\n",
    "                n_lineas = int(driver.find_element_by_xpath('//span[@id=\"span_vVLINEAS\"]').text)\n",
    "                \n",
    "                ### Lineas Dua iFrame\n",
    "                lineas_dfs = []\n",
    "                pgs = n_lineas // 20 + 1\n",
    "                driver.find_element_by_xpath('//input[@name=\"LINEAS\"]').click()\n",
    "                sleep(2)\n",
    "                for page in range(pgs):\n",
    "                ### Iterating over pages within this section of iframe\n",
    "                    sleep(1)\n",
    "    \n",
    "                    lineas_src = driver.page_source\n",
    "                    lineas_dfs.append(pd.read_html(lineas_src))\n",
    "    \n",
    "                    driver.find_element_by_xpath('//input[@name=\"SIGUIENTE\"]').click()\n",
    "                lineas_dfs = [lineas_dfs[i][1] for i in range(pgs)]\n",
    "                lineas_df = pd.concat(lineas_dfs)\n",
    "                lineas_df[['Linea', 'Partida', 'Bultos']].astype('int').dtypes\n",
    "                lineas_df['Partida'] = lineas_df['Partida'].apply(lambda x: int(x/10000))\n",
    "                lineas_df = lineas_df[(lineas_df['Partida'] > int(range_low)) & (lineas_df['Partida'] < int(range_high))]\n",
    "                n_bultos = lineas_df['Bultos'].sum()\n",
    "                bultos.append(n_bultos)\n",
    "                sleep(2)\n",
    "                ActionChains(driver).send_keys(Keys.ESCAPE).perform()\n",
    "                sleep(2)\n",
    "                \n",
    "                ### Manifesto/Stock iFrame\n",
    "                driver.find_element_by_xpath('//input[@name=\"AER\"]').click()\n",
    "                sleep(1)\n",
    "                try:\n",
    "                    driver.find_element_by_xpath('//span[@id=\"span_CGMOVSKID_0001\"]').click()\n",
    "                    sa = driver.find_element_by_xpath('//span[@id=\"span_vVCONSNOM_0001\"]').text\n",
    "                    ActionChains(driver).send_keys(Keys.ESCAPE).perform()\n",
    "                    sleep(1)\n",
    "                except:\n",
    "                    sa = 0 \n",
    "                razon_social.append(sa)\n",
    "                \n",
    "                sleep(1)\n",
    "                ActionChains(driver).send_keys(Keys.ESCAPE).perform()\n",
    "                sleep(2)\n",
    "                \n",
    "                ### Facturas iFrame\n",
    "                driver.find_element_by_xpath('//input[@name=\"FACTURAS\"]').click()\n",
    "                sleep(2)\n",
    "                fact_src = driver.page_source\n",
    "                fact_dfs = pd.read_html(fact_src)\n",
    "                lines_of_interest = lineas_df['Linea'].values\n",
    "                fact_dfs = fact_dfs[4]\n",
    "                fact_dfs['Lin.Dua'].astype('int').dtypes\n",
    "                fact_dfs[['Cant. prod. Und comerc', 'Precio unid. mercancía']].astype('float').dtypes\n",
    "                fact_dfs = fact_dfs.set_index('Lin.Dua').loc[lines_of_interest]\n",
    "                facturas_dfs.append(fact_dfs)\n",
    "                \n",
    "                sleep(1)\n",
    "                ActionChains(driver).send_keys(Keys.ESCAPE).perform()\n",
    "                sleep(1)\n",
    "                ActionChains(driver).send_keys(Keys.ESCAPE).perform()\n",
    "                sleep(1)\n",
    "                if len(main_pg_data)//10 == 0:\n",
    "                    scrape_pg = False\n",
    "            \n",
    "            \n",
    "            elif line == 10:\n",
    "                xpath = f'//table[@id=\"SubfileContainerTbl\"]/tbody/tr/td[@colindex=\"2\"]/span[@id=\"span_vVNUMECORRE_00{str(line)}\"]/a'\n",
    "                sleep(2)\n",
    "                driver.find_element_by_xpath(xpath).click()\n",
    "                sleep(2)\n",
    "                iframe = driver.find_element_by_xpath('//iframe')\n",
    "                driver.switch_to.frame(iframe)\n",
    "                sleep(1)\n",
    "                \n",
    "                ### Scraping Main iFrame\n",
    "                declarante = driver.find_element_by_xpath('//span[@id=\"span_vVNOMDECL\"]').text\n",
    "                declarantes.append(declarante)\n",
    "                tipo_cambio_v = float(driver.find_element_by_xpath('//span[@id=\"span_TIPCAMVEN\"]').text)\n",
    "                tipos_cambio.append(tipo_cambio_v)\n",
    "                n_lineas = int(driver.find_element_by_xpath('//span[@id=\"span_vVLINEAS\"]').text)\n",
    "                \n",
    "                ### Lineas Dua iFrame\n",
    "                lineas_dfs = []\n",
    "                pgs = n_lineas // 20 + 1\n",
    "                driver.find_element_by_xpath('//input[@name=\"LINEAS\"]').click()\n",
    "                sleep(2)\n",
    "                for page in range(pgs):\n",
    "                ### Iterating over pages within this section of iframe\n",
    "                    sleep(1)\n",
    "    \n",
    "                    lineas_src = driver.page_source\n",
    "                    lineas_dfs.append(pd.read_html(lineas_src))\n",
    "    \n",
    "                    driver.find_element_by_xpath('//input[@name=\"SIGUIENTE\"]').click()\n",
    "                lineas_dfs = [lineas_dfs[i][1] for i in range(pgs)]\n",
    "                lineas_df = pd.concat(lineas_dfs)\n",
    "                lineas_df[['Linea', 'Partida', 'Bultos']].astype('int').dtypes\n",
    "                lineas_df['Partida'] = lineas_df['Partida'].apply(lambda x: int(x/10000))\n",
    "                lineas_df = lineas_df[(lineas_df['Partida'] > int(range_low)) & (lineas_df['Partida'] < int(range_high))]\n",
    "                n_bultos = lineas_df['Bultos'].sum()\n",
    "                bultos.append(n_bultos)\n",
    "                sleep(2)\n",
    "                ActionChains(driver).send_keys(Keys.ESCAPE).perform()\n",
    "                sleep(2)\n",
    "                \n",
    "                ### Manifesto/Stock iFrame\n",
    "                driver.find_element_by_xpath('//input[@name=\"AER\"]').click()\n",
    "                sleep(1)\n",
    "                try:\n",
    "                    driver.find_element_by_xpath('//span[@id=\"span_CGMOVSKID_0001\"]').click()\n",
    "                    sa = driver.find_element_by_xpath('//span[@id=\"span_vVCONSNOM_0001\"]').text\n",
    "                    ActionChains(driver).send_keys(Keys.ESCAPE).perform()\n",
    "                    sleep(1)\n",
    "                except:\n",
    "                    sa = 0 \n",
    "                razon_social.append(sa)\n",
    "                \n",
    "                sleep(1)\n",
    "                ActionChains(driver).send_keys(Keys.ESCAPE).perform()\n",
    "                sleep(2)\n",
    "                \n",
    "                ### Facturas iFrame\n",
    "                driver.find_element_by_xpath('//input[@name=\"FACTURAS\"]').click()\n",
    "                sleep(2)\n",
    "                fact_src = driver.page_source\n",
    "                fact_dfs = pd.read_html(fact_src)\n",
    "                lines_of_interest = lineas_df['Linea'].values\n",
    "                fact_dfs = fact_dfs[4]\n",
    "                fact_dfs['Lin.Dua'].astype('int').dtypes\n",
    "                fact_dfs[['Cant. prod. Und comerc', 'Precio unid. mercancía']].astype('float').dtypes\n",
    "                fact_dfs = fact_dfs.set_index('Lin.Dua').loc[lines_of_interest]\n",
    "                facturas_dfs.append(fact_dfs)\n",
    "                sleep(2)\n",
    "                \n",
    "                sleep(1)\n",
    "                ActionChains(driver).send_keys(Keys.ESCAPE).perform()\n",
    "                sleep(1)\n",
    "                ActionChains(driver).send_keys(Keys.ESCAPE).perform()\n",
    "                sleep(1)\n",
    "                scrape_pg = False\n",
    "    \n",
    "    \n",
    "    \n",
    "    if len(len_test)//10 != 0:\n",
    "        sleep(1)\n",
    "        driver.find_element_by_xpath('//input[@title=\"Siguiente\"]').click()\n",
    "        sleep(1)\n",
    "    else:\n",
    "        print('Job Done!')\n",
    "        scrape = False"
   ]
  },
  {
   "cell_type": "code",
   "execution_count": 19,
   "metadata": {},
   "outputs": [],
   "source": [
    "driver.quit()"
   ]
  },
  {
   "cell_type": "code",
   "execution_count": 20,
   "metadata": {},
   "outputs": [
    {
     "data": {
      "text/plain": [
       "6"
      ]
     },
     "execution_count": 20,
     "metadata": {},
     "output_type": "execute_result"
    }
   ],
   "source": [
    "len(main_pg_dfs)"
   ]
  },
  {
   "cell_type": "code",
   "execution_count": 21,
   "metadata": {},
   "outputs": [
    {
     "data": {
      "text/plain": [
       "6"
      ]
     },
     "execution_count": 21,
     "metadata": {},
     "output_type": "execute_result"
    }
   ],
   "source": [
    "len(duas_dfs)"
   ]
  },
  {
   "cell_type": "code",
   "execution_count": 22,
   "metadata": {},
   "outputs": [
    {
     "data": {
      "text/plain": [
       "36"
      ]
     },
     "execution_count": 22,
     "metadata": {},
     "output_type": "execute_result"
    }
   ],
   "source": [
    "len(declarantes)"
   ]
  },
  {
   "cell_type": "code",
   "execution_count": 23,
   "metadata": {},
   "outputs": [
    {
     "data": {
      "text/plain": [
       "36"
      ]
     },
     "execution_count": 23,
     "metadata": {},
     "output_type": "execute_result"
    }
   ],
   "source": [
    "len(tipos_cambio)"
   ]
  },
  {
   "cell_type": "code",
   "execution_count": 24,
   "metadata": {},
   "outputs": [
    {
     "data": {
      "text/plain": [
       "36"
      ]
     },
     "execution_count": 24,
     "metadata": {},
     "output_type": "execute_result"
    }
   ],
   "source": [
    "len(bultos)"
   ]
  },
  {
   "cell_type": "code",
   "execution_count": 25,
   "metadata": {},
   "outputs": [
    {
     "data": {
      "text/plain": [
       "36"
      ]
     },
     "execution_count": 25,
     "metadata": {},
     "output_type": "execute_result"
    }
   ],
   "source": [
    "len(razon_social)"
   ]
  },
  {
   "cell_type": "code",
   "execution_count": 27,
   "metadata": {},
   "outputs": [
    {
     "data": {
      "text/plain": [
       "36"
      ]
     },
     "execution_count": 27,
     "metadata": {},
     "output_type": "execute_result"
    }
   ],
   "source": [
    "len(facturas_dfs)"
   ]
  },
  {
   "cell_type": "code",
   "execution_count": 40,
   "metadata": {},
   "outputs": [],
   "source": [
    "main_pg_results = pd.concat(main_pg_dfs).reset_index().drop('index', axis=1)"
   ]
  },
  {
   "cell_type": "code",
   "execution_count": 42,
   "metadata": {},
   "outputs": [],
   "source": [
    "main_pg_results.to_csv('Agosto_Resultados_Pag_Principal.csv', index=False)"
   ]
  },
  {
   "cell_type": "code",
   "execution_count": 44,
   "metadata": {},
   "outputs": [],
   "source": [
    "duas_data = pd.concat(duas_dfs)"
   ]
  },
  {
   "cell_type": "code",
   "execution_count": 45,
   "metadata": {},
   "outputs": [
    {
     "data": {
      "text/plain": [
       "36"
      ]
     },
     "execution_count": 45,
     "metadata": {},
     "output_type": "execute_result"
    }
   ],
   "source": [
    "len(duas_data)"
   ]
  },
  {
   "cell_type": "code",
   "execution_count": 49,
   "metadata": {},
   "outputs": [],
   "source": [
    "data = pd.DataFrame(duas_data, columns={'Cantidad'})"
   ]
  },
  {
   "cell_type": "code",
   "execution_count": 53,
   "metadata": {},
   "outputs": [],
   "source": [
    "data['Declarante'] = declarantes\n",
    "data['Tipo Cambio'] = tipos_cambio\n",
    "data['Bultos'] = bultos\n",
    "data['Razon Social'] = razon_social"
   ]
  },
  {
   "cell_type": "code",
   "execution_count": 56,
   "metadata": {},
   "outputs": [
    {
     "data": {
      "text/html": [
       "<div>\n",
       "<style scoped>\n",
       "    .dataframe tbody tr th:only-of-type {\n",
       "        vertical-align: middle;\n",
       "    }\n",
       "\n",
       "    .dataframe tbody tr th {\n",
       "        vertical-align: top;\n",
       "    }\n",
       "\n",
       "    .dataframe thead th {\n",
       "        text-align: right;\n",
       "    }\n",
       "</style>\n",
       "<table border=\"1\" class=\"dataframe\">\n",
       "  <thead>\n",
       "    <tr style=\"text-align: right;\">\n",
       "      <th></th>\n",
       "      <th>Cantidad</th>\n",
       "      <th>Declarante</th>\n",
       "      <th>Tipo Cambio</th>\n",
       "      <th>Bultos</th>\n",
       "      <th>Razon Social</th>\n",
       "    </tr>\n",
       "    <tr>\n",
       "      <th>Numero</th>\n",
       "      <th></th>\n",
       "      <th></th>\n",
       "      <th></th>\n",
       "      <th></th>\n",
       "      <th></th>\n",
       "    </tr>\n",
       "  </thead>\n",
       "  <tbody>\n",
       "    <tr>\n",
       "      <th>45543</th>\n",
       "      <td>3</td>\n",
       "      <td>MUDANZAS MUNDIALES SOCIEDAD ANONIMA</td>\n",
       "      <td>599.13</td>\n",
       "      <td>10</td>\n",
       "      <td>BIMBO DE COSTA RICA SOCIEDAD ANONIMA</td>\n",
       "    </tr>\n",
       "    <tr>\n",
       "      <th>45835</th>\n",
       "      <td>1</td>\n",
       "      <td>GRUPO SERVICA COSTA RICA SOCIEDAD ANONIMA</td>\n",
       "      <td>600.11</td>\n",
       "      <td>5</td>\n",
       "      <td>JAVA CENTROAMERICANA AIME SOCIEDAD ANONIMA</td>\n",
       "    </tr>\n",
       "    <tr>\n",
       "      <th>45987</th>\n",
       "      <td>1</td>\n",
       "      <td>MUDANZAS MUNDIALES SOCIEDAD ANONIMA</td>\n",
       "      <td>598.23</td>\n",
       "      <td>4</td>\n",
       "      <td>BIMBO DE COSTA RICA SOCIEDAD ANONIMA</td>\n",
       "    </tr>\n",
       "    <tr>\n",
       "      <th>55273</th>\n",
       "      <td>1</td>\n",
       "      <td>RODRIGUEZ MURILLO VLADIMIR</td>\n",
       "      <td>595.91</td>\n",
       "      <td>0</td>\n",
       "      <td>0</td>\n",
       "    </tr>\n",
       "    <tr>\n",
       "      <th>360929</th>\n",
       "      <td>3</td>\n",
       "      <td>AGENCIA ADUANAL SIETE MARES SOCIEDAD ANONIMA</td>\n",
       "      <td>592.22</td>\n",
       "      <td>88</td>\n",
       "      <td>FARYVET SOCIEDAD ANONIMA</td>\n",
       "    </tr>\n",
       "    <tr>\n",
       "      <th>360964</th>\n",
       "      <td>1</td>\n",
       "      <td>ARAYA CHAVARRIA BORIS GERARDO</td>\n",
       "      <td>592.22</td>\n",
       "      <td>0</td>\n",
       "      <td>ASESORIA EN ALIMENTOS ALFA SOCIEDAD ANONIMA</td>\n",
       "    </tr>\n",
       "    <tr>\n",
       "      <th>361809</th>\n",
       "      <td>2</td>\n",
       "      <td>SERVICIOS INTERNACIONALES DE CARGA SICSA SOCIE...</td>\n",
       "      <td>594.44</td>\n",
       "      <td>1</td>\n",
       "      <td>FRUCTA CR SOCIEDAD ANONIMA</td>\n",
       "    </tr>\n",
       "    <tr>\n",
       "      <th>362325</th>\n",
       "      <td>1</td>\n",
       "      <td>AGENCIA ADUANAL SIETE MARES SOCIEDAD ANONIMA</td>\n",
       "      <td>594.44</td>\n",
       "      <td>1</td>\n",
       "      <td>CARTASA DE SOL SOCIEDAD ANONIMA</td>\n",
       "    </tr>\n",
       "    <tr>\n",
       "      <th>364524</th>\n",
       "      <td>1</td>\n",
       "      <td>ALFARO GUTIERREZ MARLON ALBERTO</td>\n",
       "      <td>595.21</td>\n",
       "      <td>4</td>\n",
       "      <td>ALIMENTOS LIGEROS DE CENTRO AMERICA SOCIEDAD A...</td>\n",
       "    </tr>\n",
       "    <tr>\n",
       "      <th>368111</th>\n",
       "      <td>1</td>\n",
       "      <td>GRUPO SERVICA COSTA RICA SOCIEDAD ANONIMA</td>\n",
       "      <td>596.17</td>\n",
       "      <td>0</td>\n",
       "      <td>JAVA CENTROAMERICANA AIME SOCIEDAD ANONIMA</td>\n",
       "    </tr>\n",
       "    <tr>\n",
       "      <th>372188</th>\n",
       "      <td>1</td>\n",
       "      <td>HUMBERTO ALVAREZ SUCESORES SOCIEDAD ANONIMA</td>\n",
       "      <td>598.21</td>\n",
       "      <td>1</td>\n",
       "      <td>TRISAN SOCIEDAD ANONIMA</td>\n",
       "    </tr>\n",
       "    <tr>\n",
       "      <th>376505</th>\n",
       "      <td>2</td>\n",
       "      <td>AGENCIAS MARITIMAS SOCIEDAD DE RESPONSABILIDAD...</td>\n",
       "      <td>599.13</td>\n",
       "      <td>36</td>\n",
       "      <td>AGENTES AGROVETERINARIOS DOCE CINCUENTA Y SIET...</td>\n",
       "    </tr>\n",
       "    <tr>\n",
       "      <th>379243</th>\n",
       "      <td>1</td>\n",
       "      <td>CORDERO ROJAS JOSE ENRIQUE</td>\n",
       "      <td>600.11</td>\n",
       "      <td>1</td>\n",
       "      <td>BIMBO DE COSTA RICA SOCIEDAD ANONIMA</td>\n",
       "    </tr>\n",
       "    <tr>\n",
       "      <th>380342</th>\n",
       "      <td>1</td>\n",
       "      <td>AGENCIA ADUANAL SIETE MARES SOCIEDAD ANONIMA</td>\n",
       "      <td>598.23</td>\n",
       "      <td>3</td>\n",
       "      <td>FARYVET SOCIEDAD ANONIMA</td>\n",
       "    </tr>\n",
       "    <tr>\n",
       "      <th>380342</th>\n",
       "      <td>1</td>\n",
       "      <td>AGENCIA ADUANAL SIETE MARES SOCIEDAD ANONIMA</td>\n",
       "      <td>598.23</td>\n",
       "      <td>3</td>\n",
       "      <td>FARYVET SOCIEDAD ANONIMA</td>\n",
       "    </tr>\n",
       "    <tr>\n",
       "      <th>380681</th>\n",
       "      <td>1</td>\n",
       "      <td>BLANCO PAREDES JORGE RANDALL</td>\n",
       "      <td>598.23</td>\n",
       "      <td>0</td>\n",
       "      <td>A M S A AEROSOLES Y MAQUILAS SOCIEDAD ANONIMA</td>\n",
       "    </tr>\n",
       "    <tr>\n",
       "      <th>381074</th>\n",
       "      <td>1</td>\n",
       "      <td>ADUANAS LOGISTICA WF SOCIEDAD ANONIMA</td>\n",
       "      <td>598.23</td>\n",
       "      <td>106</td>\n",
       "      <td>IFA INGREDIENTES FUNCIONALES ALIMENTICIOS SOCI...</td>\n",
       "    </tr>\n",
       "    <tr>\n",
       "      <th>381125</th>\n",
       "      <td>1</td>\n",
       "      <td>GARCIA MARIN NANCY LORENA</td>\n",
       "      <td>598.23</td>\n",
       "      <td>7</td>\n",
       "      <td>GLOBAL KEMICAL SOCIEDAD ANONIMA</td>\n",
       "    </tr>\n",
       "    <tr>\n",
       "      <th>384702</th>\n",
       "      <td>1</td>\n",
       "      <td>GONZALEZ CAMACHO OLMAN ALEXIS</td>\n",
       "      <td>598.28</td>\n",
       "      <td>3</td>\n",
       "      <td>CALLIZO AROMAS SOCIEDAD ANONIMA</td>\n",
       "    </tr>\n",
       "    <tr>\n",
       "      <th>387656</th>\n",
       "      <td>1</td>\n",
       "      <td>AEROMAR SOCIEDAD ANONIMA</td>\n",
       "      <td>597.97</td>\n",
       "      <td>167</td>\n",
       "      <td>MOLINOS DE COSTA RICA SOCIEDAD ANONIMA</td>\n",
       "    </tr>\n",
       "    <tr>\n",
       "      <th>388557</th>\n",
       "      <td>1</td>\n",
       "      <td>AEROMAR SOCIEDAD ANONIMA</td>\n",
       "      <td>597.82</td>\n",
       "      <td>42</td>\n",
       "      <td>SOLERA Y COMPAÑIA SOCIEDAD ANONIMA</td>\n",
       "    </tr>\n",
       "    <tr>\n",
       "      <th>389012</th>\n",
       "      <td>1</td>\n",
       "      <td>CHAVES CARVAJAL GABRIEL</td>\n",
       "      <td>597.82</td>\n",
       "      <td>2</td>\n",
       "      <td>ASESORIA EN ALIMENTOS ALFA SOCIEDAD ANONIMA</td>\n",
       "    </tr>\n",
       "    <tr>\n",
       "      <th>391148</th>\n",
       "      <td>1</td>\n",
       "      <td>GRUPO TLA SOCIEDAD ANONIMA</td>\n",
       "      <td>596.42</td>\n",
       "      <td>1</td>\n",
       "      <td>DISTRIBUIDORA CHEM SOL DE COSTA RICA SOCIEDAD ...</td>\n",
       "    </tr>\n",
       "    <tr>\n",
       "      <th>392824</th>\n",
       "      <td>1</td>\n",
       "      <td>ARAYA CHAVARRIA BORIS GERARDO</td>\n",
       "      <td>596.42</td>\n",
       "      <td>0</td>\n",
       "      <td>ASESORIA EN ALIMENTOS ALFA SOCIEDAD ANONIMA</td>\n",
       "    </tr>\n",
       "    <tr>\n",
       "      <th>397392</th>\n",
       "      <td>4</td>\n",
       "      <td>HUMBERTO ALVAREZ SUCESORES SOCIEDAD ANONIMA</td>\n",
       "      <td>596.93</td>\n",
       "      <td>20</td>\n",
       "      <td>TRISAN SOCIEDAD ANONIMA</td>\n",
       "    </tr>\n",
       "    <tr>\n",
       "      <th>399470</th>\n",
       "      <td>3</td>\n",
       "      <td>DHL COSTA RICA SOCIEDAD ANONIMA</td>\n",
       "      <td>597.21</td>\n",
       "      <td>32</td>\n",
       "      <td>DISTRIBUIDORA LA FLORIDA SOCIEDAD ANONIMA</td>\n",
       "    </tr>\n",
       "    <tr>\n",
       "      <th>401187</th>\n",
       "      <td>2</td>\n",
       "      <td>CHAVES CARVAJAL GABRIEL</td>\n",
       "      <td>597.21</td>\n",
       "      <td>0</td>\n",
       "      <td>ASESORIA EN ALIMENTOS ALFA SOCIEDAD ANONIMA</td>\n",
       "    </tr>\n",
       "    <tr>\n",
       "      <th>404536</th>\n",
       "      <td>1</td>\n",
       "      <td>ALFARO GUTIERREZ MARLON ALBERTO</td>\n",
       "      <td>598.31</td>\n",
       "      <td>19</td>\n",
       "      <td>FABRICA DE HARINAS DE CENTRO AMERICA SOCIEDAD ...</td>\n",
       "    </tr>\n",
       "    <tr>\n",
       "      <th>404536</th>\n",
       "      <td>3</td>\n",
       "      <td>ALFARO GUTIERREZ MARLON ALBERTO</td>\n",
       "      <td>598.31</td>\n",
       "      <td>19</td>\n",
       "      <td>FABRICA DE HARINAS DE CENTRO AMERICA SOCIEDAD ...</td>\n",
       "    </tr>\n",
       "    <tr>\n",
       "      <th>410081</th>\n",
       "      <td>1</td>\n",
       "      <td>ROJAS BOLAÑOS LUIS GERARDO</td>\n",
       "      <td>598.00</td>\n",
       "      <td>1</td>\n",
       "      <td>DESARROLLOS INTERNACIONALES DE SALUD SOCIEDAD ...</td>\n",
       "    </tr>\n",
       "    <tr>\n",
       "      <th>118930</th>\n",
       "      <td>6</td>\n",
       "      <td>SOCIACO LOGISTICS SOCIEDAD ANONIMA</td>\n",
       "      <td>598.21</td>\n",
       "      <td>70</td>\n",
       "      <td>0</td>\n",
       "    </tr>\n",
       "    <tr>\n",
       "      <th>120276</th>\n",
       "      <td>2</td>\n",
       "      <td>GRUPO TLA SOCIEDAD ANONIMA</td>\n",
       "      <td>600.11</td>\n",
       "      <td>4</td>\n",
       "      <td>GRIFFITH FOODS, SOCIEDAD ANONIMA</td>\n",
       "    </tr>\n",
       "    <tr>\n",
       "      <th>121113</th>\n",
       "      <td>3</td>\n",
       "      <td>GRUPO SERVICA COSTA RICA SOCIEDAD ANONIMA</td>\n",
       "      <td>598.23</td>\n",
       "      <td>0</td>\n",
       "      <td>0</td>\n",
       "    </tr>\n",
       "    <tr>\n",
       "      <th>121922</th>\n",
       "      <td>1</td>\n",
       "      <td>SERVICIOS NEPTUNO SOCIEDAD ANONIMA</td>\n",
       "      <td>598.28</td>\n",
       "      <td>250</td>\n",
       "      <td>DSM NUTRITIONAL PRODUCTS COSTA RICA SOCIEDAD A...</td>\n",
       "    </tr>\n",
       "    <tr>\n",
       "      <th>127257</th>\n",
       "      <td>1</td>\n",
       "      <td>SERVICIOS NEPTUNO SOCIEDAD ANONIMA</td>\n",
       "      <td>598.31</td>\n",
       "      <td>40</td>\n",
       "      <td>0</td>\n",
       "    </tr>\n",
       "    <tr>\n",
       "      <th>1890</th>\n",
       "      <td>1</td>\n",
       "      <td>CHAVES CARVAJAL GABRIEL</td>\n",
       "      <td>598.00</td>\n",
       "      <td>0</td>\n",
       "      <td>0</td>\n",
       "    </tr>\n",
       "  </tbody>\n",
       "</table>\n",
       "</div>"
      ],
      "text/plain": [
       "        Cantidad                                         Declarante  \\\n",
       "Numero                                                                \n",
       "45543          3                MUDANZAS MUNDIALES SOCIEDAD ANONIMA   \n",
       "45835          1          GRUPO SERVICA COSTA RICA SOCIEDAD ANONIMA   \n",
       "45987          1                MUDANZAS MUNDIALES SOCIEDAD ANONIMA   \n",
       "55273          1                         RODRIGUEZ MURILLO VLADIMIR   \n",
       "360929         3       AGENCIA ADUANAL SIETE MARES SOCIEDAD ANONIMA   \n",
       "360964         1                      ARAYA CHAVARRIA BORIS GERARDO   \n",
       "361809         2  SERVICIOS INTERNACIONALES DE CARGA SICSA SOCIE...   \n",
       "362325         1       AGENCIA ADUANAL SIETE MARES SOCIEDAD ANONIMA   \n",
       "364524         1                    ALFARO GUTIERREZ MARLON ALBERTO   \n",
       "368111         1          GRUPO SERVICA COSTA RICA SOCIEDAD ANONIMA   \n",
       "372188         1        HUMBERTO ALVAREZ SUCESORES SOCIEDAD ANONIMA   \n",
       "376505         2  AGENCIAS MARITIMAS SOCIEDAD DE RESPONSABILIDAD...   \n",
       "379243         1                         CORDERO ROJAS JOSE ENRIQUE   \n",
       "380342         1       AGENCIA ADUANAL SIETE MARES SOCIEDAD ANONIMA   \n",
       "380342         1       AGENCIA ADUANAL SIETE MARES SOCIEDAD ANONIMA   \n",
       "380681         1                       BLANCO PAREDES JORGE RANDALL   \n",
       "381074         1              ADUANAS LOGISTICA WF SOCIEDAD ANONIMA   \n",
       "381125         1                          GARCIA MARIN NANCY LORENA   \n",
       "384702         1                      GONZALEZ CAMACHO OLMAN ALEXIS   \n",
       "387656         1                           AEROMAR SOCIEDAD ANONIMA   \n",
       "388557         1                           AEROMAR SOCIEDAD ANONIMA   \n",
       "389012         1                            CHAVES CARVAJAL GABRIEL   \n",
       "391148         1                         GRUPO TLA SOCIEDAD ANONIMA   \n",
       "392824         1                      ARAYA CHAVARRIA BORIS GERARDO   \n",
       "397392         4        HUMBERTO ALVAREZ SUCESORES SOCIEDAD ANONIMA   \n",
       "399470         3                    DHL COSTA RICA SOCIEDAD ANONIMA   \n",
       "401187         2                            CHAVES CARVAJAL GABRIEL   \n",
       "404536         1                    ALFARO GUTIERREZ MARLON ALBERTO   \n",
       "404536         3                    ALFARO GUTIERREZ MARLON ALBERTO   \n",
       "410081         1                         ROJAS BOLAÑOS LUIS GERARDO   \n",
       "118930         6                 SOCIACO LOGISTICS SOCIEDAD ANONIMA   \n",
       "120276         2                         GRUPO TLA SOCIEDAD ANONIMA   \n",
       "121113         3          GRUPO SERVICA COSTA RICA SOCIEDAD ANONIMA   \n",
       "121922         1                 SERVICIOS NEPTUNO SOCIEDAD ANONIMA   \n",
       "127257         1                 SERVICIOS NEPTUNO SOCIEDAD ANONIMA   \n",
       "1890           1                            CHAVES CARVAJAL GABRIEL   \n",
       "\n",
       "        Tipo Cambio  Bultos                                       Razon Social  \n",
       "Numero                                                                          \n",
       "45543        599.13      10               BIMBO DE COSTA RICA SOCIEDAD ANONIMA  \n",
       "45835        600.11       5         JAVA CENTROAMERICANA AIME SOCIEDAD ANONIMA  \n",
       "45987        598.23       4               BIMBO DE COSTA RICA SOCIEDAD ANONIMA  \n",
       "55273        595.91       0                                                  0  \n",
       "360929       592.22      88                           FARYVET SOCIEDAD ANONIMA  \n",
       "360964       592.22       0        ASESORIA EN ALIMENTOS ALFA SOCIEDAD ANONIMA  \n",
       "361809       594.44       1                         FRUCTA CR SOCIEDAD ANONIMA  \n",
       "362325       594.44       1                    CARTASA DE SOL SOCIEDAD ANONIMA  \n",
       "364524       595.21       4  ALIMENTOS LIGEROS DE CENTRO AMERICA SOCIEDAD A...  \n",
       "368111       596.17       0         JAVA CENTROAMERICANA AIME SOCIEDAD ANONIMA  \n",
       "372188       598.21       1                            TRISAN SOCIEDAD ANONIMA  \n",
       "376505       599.13      36  AGENTES AGROVETERINARIOS DOCE CINCUENTA Y SIET...  \n",
       "379243       600.11       1               BIMBO DE COSTA RICA SOCIEDAD ANONIMA  \n",
       "380342       598.23       3                           FARYVET SOCIEDAD ANONIMA  \n",
       "380342       598.23       3                           FARYVET SOCIEDAD ANONIMA  \n",
       "380681       598.23       0      A M S A AEROSOLES Y MAQUILAS SOCIEDAD ANONIMA  \n",
       "381074       598.23     106  IFA INGREDIENTES FUNCIONALES ALIMENTICIOS SOCI...  \n",
       "381125       598.23       7                    GLOBAL KEMICAL SOCIEDAD ANONIMA  \n",
       "384702       598.28       3                    CALLIZO AROMAS SOCIEDAD ANONIMA  \n",
       "387656       597.97     167             MOLINOS DE COSTA RICA SOCIEDAD ANONIMA  \n",
       "388557       597.82      42                 SOLERA Y COMPAÑIA SOCIEDAD ANONIMA  \n",
       "389012       597.82       2        ASESORIA EN ALIMENTOS ALFA SOCIEDAD ANONIMA  \n",
       "391148       596.42       1  DISTRIBUIDORA CHEM SOL DE COSTA RICA SOCIEDAD ...  \n",
       "392824       596.42       0        ASESORIA EN ALIMENTOS ALFA SOCIEDAD ANONIMA  \n",
       "397392       596.93      20                            TRISAN SOCIEDAD ANONIMA  \n",
       "399470       597.21      32          DISTRIBUIDORA LA FLORIDA SOCIEDAD ANONIMA  \n",
       "401187       597.21       0        ASESORIA EN ALIMENTOS ALFA SOCIEDAD ANONIMA  \n",
       "404536       598.31      19  FABRICA DE HARINAS DE CENTRO AMERICA SOCIEDAD ...  \n",
       "404536       598.31      19  FABRICA DE HARINAS DE CENTRO AMERICA SOCIEDAD ...  \n",
       "410081       598.00       1  DESARROLLOS INTERNACIONALES DE SALUD SOCIEDAD ...  \n",
       "118930       598.21      70                                                  0  \n",
       "120276       600.11       4                   GRIFFITH FOODS, SOCIEDAD ANONIMA  \n",
       "121113       598.23       0                                                  0  \n",
       "121922       598.28     250  DSM NUTRITIONAL PRODUCTS COSTA RICA SOCIEDAD A...  \n",
       "127257       598.31      40                                                  0  \n",
       "1890         598.00       0                                                  0  "
      ]
     },
     "execution_count": 56,
     "metadata": {},
     "output_type": "execute_result"
    }
   ],
   "source": [
    "data"
   ]
  },
  {
   "cell_type": "code",
   "execution_count": 78,
   "metadata": {},
   "outputs": [],
   "source": [
    "temp = [facturas_dfs[i][['Cant. prod. Und comerc', 'Precio unid. mercancía']].sum() for i in range(len(facturas_dfs))]"
   ]
  },
  {
   "cell_type": "code",
   "execution_count": 79,
   "metadata": {},
   "outputs": [],
   "source": [
    "weights = [temp[i][0] for i in range(len(temp))]"
   ]
  },
  {
   "cell_type": "code",
   "execution_count": 82,
   "metadata": {},
   "outputs": [],
   "source": [
    "data['Peso (kg)'] = weights"
   ]
  },
  {
   "cell_type": "code",
   "execution_count": 83,
   "metadata": {},
   "outputs": [],
   "source": [
    "cost = [temp[i][1] for i in range(len(temp))]"
   ]
  },
  {
   "cell_type": "code",
   "execution_count": 84,
   "metadata": {},
   "outputs": [],
   "source": [
    "data['Precio Unidad Mercancía ($)'] = cost"
   ]
  },
  {
   "cell_type": "code",
   "execution_count": 86,
   "metadata": {},
   "outputs": [],
   "source": [
    "data['Total ($)'] = data['Peso (kg)']*data['Precio Unidad Mercancía ($)']"
   ]
  },
  {
   "cell_type": "code",
   "execution_count": 88,
   "metadata": {},
   "outputs": [],
   "source": [
    "data.to_csv('Agosto_Data.csv', index=True)"
   ]
  },
  {
   "cell_type": "code",
   "execution_count": 96,
   "metadata": {},
   "outputs": [],
   "source": [
    "writer = pd.ExcelWriter('Datos_Agosto.xlsx', engine='xlsxwriter')"
   ]
  },
  {
   "cell_type": "code",
   "execution_count": 97,
   "metadata": {},
   "outputs": [],
   "source": [
    "data.to_excel(writer, sheet_name='Detalle', index=True)"
   ]
  },
  {
   "cell_type": "code",
   "execution_count": 98,
   "metadata": {},
   "outputs": [],
   "source": [
    "main_pg_results.to_excel(writer, sheet_name='Descripcion', index=False)"
   ]
  },
  {
   "cell_type": "code",
   "execution_count": 99,
   "metadata": {},
   "outputs": [],
   "source": [
    "writer.save()"
   ]
  },
  {
   "cell_type": "code",
   "execution_count": null,
   "metadata": {},
   "outputs": [],
   "source": []
  }
 ],
 "metadata": {
  "kernelspec": {
   "display_name": "Python 3",
   "language": "python",
   "name": "python3"
  },
  "language_info": {
   "codemirror_mode": {
    "name": "ipython",
    "version": 3
   },
   "file_extension": ".py",
   "mimetype": "text/x-python",
   "name": "python",
   "nbconvert_exporter": "python",
   "pygments_lexer": "ipython3",
   "version": "3.7.7"
  }
 },
 "nbformat": 4,
 "nbformat_minor": 4
}
